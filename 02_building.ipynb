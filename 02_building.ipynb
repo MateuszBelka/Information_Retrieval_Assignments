{
 "cells": [
  {
   "cell_type": "markdown",
   "metadata": {},
   "source": [
    "# Assignment 2: Building a Simple Index"
   ]
  },
  {
   "cell_type": "markdown",
   "metadata": {},
   "source": [
    "In this assignment, we will build a simple search index, which we will use later for Boolean retrieval. The assignment tasks are again at the bottom of this document."
   ]
  },
  {
   "cell_type": "markdown",
   "metadata": {},
   "source": [
    "## Loading the Data"
   ]
  },
  {
   "cell_type": "code",
   "execution_count": 1,
   "metadata": {},
   "outputs": [],
   "source": [
    "Summaries_file = 'data/fungus_Summaries.pkl.bz2'\n",
    "Abstracts_file = 'data/fungus_Abstracts.pkl.bz2'"
   ]
  },
  {
   "cell_type": "code",
   "execution_count": 2,
   "metadata": {},
   "outputs": [],
   "source": [
    "import pickle, bz2\n",
    "from collections import namedtuple\n",
    "\n",
    "Summaries = pickle.load( bz2.BZ2File( Summaries_file, 'rb' ) )\n",
    "\n",
    "paper = namedtuple( 'paper', ['title', 'authors', 'year', 'doi'] )\n",
    "\n",
    "for (id, paper_info) in Summaries.items():\n",
    "    Summaries[id] = paper( *paper_info )\n",
    "    \n",
    "Abstracts = pickle.load( bz2.BZ2File( Abstracts_file, 'rb' ) )"
   ]
  },
  {
   "cell_type": "markdown",
   "metadata": {},
   "source": [
    "Let's have a look at what the data looks like for an example of a paper:"
   ]
  },
  {
   "cell_type": "code",
   "execution_count": 3,
   "metadata": {},
   "outputs": [
    {
     "data": {
      "text/plain": [
       "paper(title='Drivers of salamander extirpation mediated by Batrachochytrium salamandrivorans.', authors=['Stegen G', 'Pasmans F', 'Schmidt BR', 'Rouffaer LO', 'Van Praet S', 'Schaub M', 'Canessa S', 'Laudelout A', 'Kinet T', 'Adriaensen C', 'Haesebrouck F', 'Bert W', 'Bossuyt F', 'Martel A'], year=2017, doi='10.1038/nature22059')"
      ]
     },
     "execution_count": 3,
     "metadata": {},
     "output_type": "execute_result"
    }
   ],
   "source": [
    "Summaries[28425998]"
   ]
  },
  {
   "cell_type": "code",
   "execution_count": 4,
   "metadata": {},
   "outputs": [
    {
     "data": {
      "text/plain": [
       "\"The recent arrival of Batrachochytrium salamandrivorans in Europe was followed by rapid expansion of its geographical distribution and host range, confirming the unprecedented threat that this chytrid fungus poses to western Palaearctic amphibians. Mitigating this hazard requires a thorough understanding of the pathogen's disease ecology that is driving the extinction process. Here, we monitored infection, disease and host population dynamics in a Belgian fire salamander (Salamandra salamandra) population for two years immediately after the first signs of infection. We show that arrival of this chytrid is associated with rapid population collapse without any sign of recovery, largely due to lack of increased resistance in the surviving salamanders and a demographic shift that prevents compensation for mortality. The pathogen adopts a dual transmission strategy, with environmentally resistant non-motile spores in addition to the motile spores identified in its sister species B. dendrobatidis. The fungus retains its virulence not only in water and soil, but also in anurans and less susceptible urodelan species that function as infection reservoirs. The combined characteristics of the disease ecology suggest that further expansion of this fungus will behave as a 'perfect storm' that is able to rapidly extirpate highly susceptible salamander populations across Europe.\""
      ]
     },
     "execution_count": 4,
     "metadata": {},
     "output_type": "execute_result"
    }
   ],
   "source": [
    "Abstracts[28425998]"
   ]
  },
  {
   "cell_type": "markdown",
   "metadata": {},
   "source": [
    "## Some Utility Functions"
   ]
  },
  {
   "cell_type": "markdown",
   "metadata": {},
   "source": [
    "We'll define some utility functions that allow us to tokenize a string into terms, perform linguistic preprocessing on a list of terms, as well as a function to display information about a paper in a nice way. Note that these tokenization and preprocessing functions are rather naive. We will improve them in a later assignment."
   ]
  },
  {
   "cell_type": "code",
   "execution_count": 5,
   "metadata": {},
   "outputs": [
    {
     "name": "stdout",
     "output_type": "stream",
     "text": [
      "['lorem', 'ipsum', 'dolor', 'sit', 'amet']\n"
     ]
    }
   ],
   "source": [
    "def tokenize(text):\n",
    "    \"\"\"\n",
    "    Function that tokenizes a string in a rather naive way. Can be extended later.\n",
    "    \"\"\"\n",
    "    return text.split(' ')\n",
    "\n",
    "def preprocess(tokens):\n",
    "    \"\"\"\n",
    "    Perform linguistic preprocessing on a list of tokens. Can be extended later.\n",
    "    \"\"\"\n",
    "    result = []\n",
    "    for token in tokens:\n",
    "        result.append(token.lower())\n",
    "    return result\n",
    "\n",
    "print(preprocess(tokenize(\"Lorem ipsum dolor sit AMET\")))"
   ]
  },
  {
   "cell_type": "code",
   "execution_count": 6,
   "metadata": {},
   "outputs": [
    {
     "data": {
      "text/html": [
       "<strong><a href=http://dx.doi.org/10.1038/nature22059>Drivers of salamander extirpation mediated by Batrachochytrium salamandrivorans.</a></strong><br>2017. Stegen G, Pasmans F, Schmidt BR, Rouffaer LO, Van Praet S, Schaub M, Canessa S, Laudelout A, Kinet T, Adriaensen C, Haesebrouck F, Bert W, Bossuyt F, Martel A<br>[ID: 28425998]"
      ],
      "text/plain": [
       "<IPython.core.display.HTML object>"
      ]
     },
     "metadata": {},
     "output_type": "display_data"
    },
    {
     "data": {
      "text/html": [
       "<strong><a href=http://dx.doi.org/10.1038/nature22059>Drivers of salamander extirpation mediated by Batrachochytrium salamandrivorans.</a></strong><br>2017. Stegen G, Pasmans F, Schmidt BR, Rouffaer LO, Van Praet S, Schaub M, Canessa S, Laudelout A, Kinet T, Adriaensen C, Haesebrouck F, Bert W, Bossuyt F, Martel A<br><small><strong>Abstract:</strong> <em>The recent arrival of Batrachochytrium salamandrivorans in Europe was followed by rapid expansion of its geographical distribution and host range, confirming the unprecedented threat that this chytrid fungus poses to western Palaearctic amphibians. Mitigating this hazard requires a thorough understanding of the pathogen's disease ecology that is driving the extinction process. Here, we monitored infection, disease and host population dynamics in a Belgian fire salamander (Salamandra salamandra) population for two years immediately after the first signs of infection. We show that arrival of this chytrid is associated with rapid population collapse without any sign of recovery, largely due to lack of increased resistance in the surviving salamanders and a demographic shift that prevents compensation for mortality. The pathogen adopts a dual transmission strategy, with environmentally resistant non-motile spores in addition to the motile spores identified in its sister species B. dendrobatidis. The fungus retains its virulence not only in water and soil, but also in anurans and less susceptible urodelan species that function as infection reservoirs. The combined characteristics of the disease ecology suggest that further expansion of this fungus will behave as a 'perfect storm' that is able to rapidly extirpate highly susceptible salamander populations across Europe.</em></small><br>[ID: 28425998]"
      ],
      "text/plain": [
       "<IPython.core.display.HTML object>"
      ]
     },
     "metadata": {},
     "output_type": "display_data"
    }
   ],
   "source": [
    "from IPython.display import display, HTML\n",
    "import re\n",
    "\n",
    "def display_summary( id, show_abstract=False, show_id=True, extra_text='' ):\n",
    "    \"\"\"\n",
    "    Function for printing a paper's summary through IPython's Rich Display System.\n",
    "    Trims long author lists, and adds a link to the paper's DOI (when available).\n",
    "    \"\"\"\n",
    "    s = Summaries[id]\n",
    "    lines = []\n",
    "    title = s.title\n",
    "    if s.doi != '':\n",
    "        title = '<a href=http://dx.doi.org/{:s}>{:s}</a>'.format(s.doi, title)\n",
    "    title = '<strong>' + title + '</strong>'\n",
    "    lines.append(title)\n",
    "    authors = ', '.join( s.authors[:20] ) + ('' if len(s.authors) <= 20 else ', ...')\n",
    "    lines.append(str(s.year) + '. ' + authors)\n",
    "    if (show_abstract):\n",
    "        lines.append('<small><strong>Abstract:</strong> <em>{:s}</em></small>'.format(Abstracts[id]))\n",
    "    if (show_id):\n",
    "        lines.append('[ID: {:d}]'.format(id))\n",
    "    if (extra_text != ''):\n",
    "         lines.append(extra_text)\n",
    "    display( HTML('<br>'.join(lines)) )\n",
    "\n",
    "display_summary(28425998)\n",
    "display_summary(28425998, show_abstract=True)"
   ]
  },
  {
   "cell_type": "markdown",
   "metadata": {},
   "source": [
    "## Creating our first index"
   ]
  },
  {
   "cell_type": "markdown",
   "metadata": {},
   "source": [
    "We will now create an _inverted index_ based on the words in the titles and abstracts of the papers in our dataset. We will implement our inverted index as a Python dictionary with term strings as keys and posting lists (implemented as Python lists) as values. We include all the tokens we can find in the title and (if available) in the abstract:"
   ]
  },
  {
   "cell_type": "code",
   "execution_count": 7,
   "metadata": {},
   "outputs": [],
   "source": [
    "from collections import defaultdict\n",
    "\n",
    "inverted_index = defaultdict(list)\n",
    "\n",
    "# This can take a few seconds:\n",
    "for id in sorted(Summaries.keys()):\n",
    "    term_set = set(preprocess(tokenize(Summaries[id].title)))\n",
    "    if id in Abstracts:\n",
    "        term_set.update(preprocess(tokenize(Abstracts[id])))\n",
    "    for term in term_set:\n",
    "        inverted_index[term].append(id)"
   ]
  },
  {
   "cell_type": "markdown",
   "metadata": {},
   "source": [
    "Let's see what's in the index for the example term 'amsterdam':"
   ]
  },
  {
   "cell_type": "code",
   "execution_count": 8,
   "metadata": {},
   "outputs": [
    {
     "name": "stdout",
     "output_type": "stream",
     "text": [
      "[13577999, 22679594, 23155502, 28879757, 30722636]\n"
     ]
    }
   ],
   "source": [
    "print(inverted_index['amsterdam'])"
   ]
  },
  {
   "cell_type": "markdown",
   "metadata": {},
   "source": [
    "We can now use this inverted index to answer simple one-word queries, for example to show all papers that contain the word 'madrid':"
   ]
  },
  {
   "cell_type": "code",
   "execution_count": 9,
   "metadata": {},
   "outputs": [
    {
     "data": {
      "text/html": [
       "<strong><a href=http://dx.doi.org/10.1016/s0045-6535(02)00485-x>Tolerance and uptake of heavy metals by Trichoderma atroviride isolated from sludge.</a></strong><br>2003. López Errasquín E, Vázquez C<br><small><strong>Abstract:</strong> <em>A strain of Trichoderma atroviride, isolated from sewage sludge obtained from a water treatment plant located in Madrid (Spain), has been studied for tolerance to heavy metals (copper, zinc and cadmium) and for its capacities to uptake these metals. It was found that this fungus is capable of surviving high metal concentrations, apparently as a result of the natural selection of resistant cells. Also, growth and metal uptake have been assayed in samples where the fungus was cultured in the presence of a single metal and in the presence of a combination of two or three cations, where additive and synergistic interactions were observed. Finally, metal uptake by this strain has been studied under different nutritional conditions. It was found that the highest values of metals removal were achieved for autolysed mycelia while the lowest levels were observed in the presence of glucose.</em></small><br>[ID: 12656239]"
      ],
      "text/plain": [
       "<IPython.core.display.HTML object>"
      ]
     },
     "metadata": {},
     "output_type": "display_data"
    },
    {
     "data": {
      "text/html": [
       "<strong><a href=http://dx.doi.org/10.1016/j.riam.2015.01.002>[Outbreak of Trichophyton tonsurans ringworm in a health area of the Community of Madrid (Spain)].</a></strong><br>2016. Durán-Valle MT, Regodón-Domínguez M, Velasco-Rodríguez MJ, Aragón A, Gómez-Garcés JL<br><small><strong>Abstract:</strong> <em>Trichophyton tonsurans is a dermatophyte fungus that can cause ringworm outbreaks. In our health area in September 2013, two cases of T. tonsurans ringworm were diagnosed in children who lived in a Children's Centre.</em></small><br>[ID: 26774595]"
      ],
      "text/plain": [
       "<IPython.core.display.HTML object>"
      ]
     },
     "metadata": {},
     "output_type": "display_data"
    },
    {
     "data": {
      "text/html": [
       "<strong><a href=http://dx.doi.org/10.1094/PDIS-10-11-0890-PDN>First Report of Heterobasidion annosum on Pinus pinaster in Spain.</a></strong><br>2012. Prieto-Recio C, Romeralo C, Bezos D, Martín-García J, Martínez-Álvarez P, Botella L, Diez JJ<br><small><strong>Abstract:</strong> <em>The basidiomycete Heterobasidion annosum (Fr.) Bref. (=Fomes annosus (Fr.) Cooke), one of the most important pathogens in coniferous forests in Europe, Asia, and North America, causes root and butt rot. H. annosum was first recorded on Pinus pinaster Ait. (commonly known as Maritime pine) in France and Great Britain in 1961 (4) and Portugal in 1986 (2). P. pinaster is the most widespread conifer in Spain, with more than 700,000 and 600,000 ha in pure and mixed stands, respectively. Over the last few years, P. pinaster decline was observed in several stands in the center of the Iberian Peninsula. Unusual crown transparency, small needles, foliage discoloration, and early tree death are characteristic decline symptoms associated with the high mortality rate on this species. In June of 2010, 11 trees (40 to 60 years old) with a different degree of decline were felled in two zones (42°2'41″N, 3°18'14″W, elevation 1,096 m and 41°55'40″N, 3°12'3″W, elevation 1,128 m) and cut into sections (stump height, breast height, and near the top). Wood slices were removed from each section and taken to the laboratory. Samples were placed in moist chambers with optimal conditions of humidity and temperature to enhance pathogen growth. After 20 days of incubation in darkness at 25°C, H. annosum (anamorph Spiniger meineckellum [A. Olson] Stalpers) occurred on most of these slices. Conidiophores with subglobose to pyriform conidia (5.8 × 4.2 μm) were observed with a compound microscope. The fungus was isolated to extract DNA by disruption of the mycelium followed by washes with phenol/chloroform/isoamyl alcohol solution (25:24:1). DNA was precipitated with 20% polyethylene glycol solution. PCR was carried out according to the instructions of the manufacturer of Dynazyme II DNA polymerase (Finnzymes Ltd, Espoo, Finland) with ITS primers, 1F (5'-CTTGGTCATTTAGAGGAAGTAA-3') and 4 (5'-TCCTCCGCTTATTGATATGC-3'). After DNA purification, samples were sequenced (SECUGEN, Madrid, Spain) and aligned and corrected with Geneious Pro 5.3 to obtain the consensus sequences. Resulting DNA sequences of two isolates were deposited in GenBank (Nos. FR850494 and FR850495), and compared with a Blastn search at GenBank showing 100% identity and 100% coverage with H. annosum sensu stricto, former ISG-P (intersterility group of pines). For pathogenicity tests, 10 seedlings (2 year old) were inoculated with autoclaved P. pinaster wood chips colonized by H. annosum, and 10 control seedlings were inoculated with noncolonized wood chips. Inoculums were prepared by growing H. annosum on 4-mm-diameter wood chips placed on potato dextrose agar media for 3 weeks. The wood chips were put inside an oblique incision made at 6 cm above the soil line and wrapped with Parafilm. After 8 weeks in a growth chamber at 22.5°C with a 14-h photoperiod, the inoculated seedlings showed typical symptoms and 3 seedlings of 10 were dead. H. annosum was previously recorded on P. sylvestris in central Spain (1), causing needle drop, swelling at the stump height, and presence of dead trees by circular areas. This pathogen was also reported on P. nigra in northeastern Spain, associated with defoliation and mortality (3). To our knowledge, this is the first record of H. annosum on P. pinaster in Spain. References: (1) J. Benito-Martínez. An. Jardín Bot. Madrid 3:23, 1943. (2) N. Neves et al. EPPO Bull. 16:505, 1986. (3) J. Oliva et al. Bol. Sanidad Vegetal. Plagas. 34:415, 2008. (4) P. Spaulding. US Dep. Agric. Agric. Handb. 197:100, 1961.</em></small><br>[ID: 30727562]"
      ],
      "text/plain": [
       "<IPython.core.display.HTML object>"
      ]
     },
     "metadata": {},
     "output_type": "display_data"
    }
   ],
   "source": [
    "query_word = 'madrid'\n",
    "for i in inverted_index[query_word]:\n",
    "    display_summary(i, show_abstract=True)"
   ]
  },
  {
   "cell_type": "markdown",
   "metadata": {},
   "source": [
    "----------"
   ]
  },
  {
   "cell_type": "markdown",
   "metadata": {},
   "source": [
    "# Tasks"
   ]
  },
  {
   "cell_type": "markdown",
   "metadata": {},
   "source": [
    "**Your name:** Mateusz Belka"
   ]
  },
  {
   "cell_type": "markdown",
   "metadata": {},
   "source": [
    "### Task 1\n",
    "\n",
    "Implement the function `and_merge` outlined below. This function takes two posting lists from the index that can be assumed to be sorted already, and it should return the result of the merging of the two lists with AND. The resulting list should therefore include all the elements that appear in both lists. As explained on the slides, this operation should take advantage of the input lists being sorted already, should not perform any additional sorting operation, and should go through each of the input lists just once. Then, test your function with an example."
   ]
  },
  {
   "cell_type": "code",
   "execution_count": 10,
   "metadata": {},
   "outputs": [
    {
     "name": "stdout",
     "output_type": "stream",
     "text": [
      "[4, 7]\n"
     ]
    }
   ],
   "source": [
    "def and_merge(sorted_list1, sorted_list2):\n",
    "    merged_list = []\n",
    "    # first we make copies of the lists, so we don't modify the existing lists in the index:\n",
    "    list1 = list(sorted_list1)\n",
    "    list2 = list(sorted_list2)\n",
    "    i, j = 0, 0\n",
    "    \n",
    "    while i < len(list1) and j < len(list2):\n",
    "        if list1[i] == list2[j] and list1[i] not in merged_list:\n",
    "            merged_list.append(list1[i])\n",
    "        \n",
    "        if list1[i] < list2[j]:\n",
    "            i += 1\n",
    "        else:\n",
    "            j += 1\n",
    "    \n",
    "    return merged_list\n",
    "\n",
    "# Testing:\n",
    "print(and_merge([1,4,5,6,7], [3,4,7,8,9]))"
   ]
  },
  {
   "cell_type": "markdown",
   "metadata": {},
   "source": [
    "### Task 2\n",
    "\n",
    "Similarly as above, implement the function `or_merge` outlined below that executes an OR merging of the lists. The resulting list should therefore include all the elements that appear in at least one of the lists. Again, this operation should take advantage of the input lists being sorted already, should not perform any additional sorting operation, and should go through each of the input lists just once. Elements that appear in both input list should only appear once in the output list. Test your function again with an example."
   ]
  },
  {
   "cell_type": "code",
   "execution_count": 11,
   "metadata": {},
   "outputs": [
    {
     "name": "stdout",
     "output_type": "stream",
     "text": [
      "[2, 3, 7, 8, 11, 17, 20]\n"
     ]
    }
   ],
   "source": [
    "def or_merge(sorted_list1, sorted_list2):\n",
    "    merged_list = []\n",
    "    # first we make copies of the lists, so we don't modify the existing lists in the index:\n",
    "    list1 = list(sorted_list1)\n",
    "    list2 = list(sorted_list2)\n",
    "    i, j = 0, 0\n",
    "    \n",
    "    while i < len(list1) and j < len(list2):\n",
    "        # Skip duplicates\n",
    "        if list1[i] == list2[j]:\n",
    "            i += 1\n",
    "            continue\n",
    "            \n",
    "        if list1[i] < list2[j]:\n",
    "            merged_list.append(list1[i])\n",
    "            i += 1\n",
    "        else:\n",
    "            merged_list.append(list2[j])\n",
    "            j += 1\n",
    "    \n",
    "    # Append the list that has not reached the end in the while loop\n",
    "    merged_list.extend(list1[i:]) if j == len(list2) else merged_list.extend(list2[j:])\n",
    "    return merged_list\n",
    "\n",
    "# Testing:\n",
    "print(or_merge([3,7,11,17,20], [2,3,8,17]))"
   ]
  },
  {
   "cell_type": "markdown",
   "metadata": {},
   "source": [
    "### Task 3\n",
    "\n",
    "Construct a function called `and_query` that takes as input a single string, consisting of one or more words, and returns as function value a list of matching documents. `and_query`, as its name suggests, should require that all query terms are present in the documents of the result list.\n",
    "\n",
    "For that, access the variable `inverted_index` from above and use the method `and_merge` that you defined. Also use the `tokenize` and `preprocess` functions we defined above to tokenize and preprocess your query.\n",
    "\n",
    "Again demonstrate the working of your function with an example (choose one that leads to fewer than 100 hits to not overblow this notebook file)."
   ]
  },
  {
   "cell_type": "code",
   "execution_count": 12,
   "metadata": {},
   "outputs": [],
   "source": [
    "# Helper functions for and_query & or_query functions\n",
    "\n",
    "def merge_posting_lists(original_list, output_list, merging_func, index=1):\n",
    "    # Base case\n",
    "    if index == len(original_list):\n",
    "        return output_list\n",
    "    # Recursive case\n",
    "    else:\n",
    "        return merge_posting_lists(original_list, merging_func(output_list, original_list[index]), merging_func, index + 1)\n",
    "\n",
    "def query_format_check(query):\n",
    "    assert isinstance(query, str), 'Query has to be a string'\n",
    "\n",
    "def query_to_postings_id(query):\n",
    "    query_format_check(query)\n",
    "    terms = preprocess(tokenize(query))\n",
    "    postings_id = [inverted_index[term] for term in terms]\n",
    "    return postings_id"
   ]
  },
  {
   "cell_type": "code",
   "execution_count": 13,
   "metadata": {
    "scrolled": true
   },
   "outputs": [
    {
     "data": {
      "text/html": [
       "<strong><a href=http://dx.doi.org/10.1111/j.1567-1364.2002.tb00089.x>Aspergillus oryzae in solid-state and submerged fermentations. Progress report on a multi-disciplinary project.</a></strong><br>2002. te Biesebeke R, Ruijter G, Rahardjo YS, Hoogschagen MJ, Heerikhuisen M, Levin A, van Driel KG, Schutyser MA, Dijksterhuis J, Zhu Y, Weber FJ, de Vos WM, van den Hondel KA, Rinzema A, Punt PJ<br>[ID: 12702312]"
      ],
      "text/plain": [
       "<IPython.core.display.HTML object>"
      ]
     },
     "metadata": {},
     "output_type": "display_data"
    },
    {
     "data": {
      "text/html": [
       "<strong><a href=http://dx.doi.org/10.1016/j.micres.2011.11.004>Influence of sub-lethal antioxidant doses, water potential and temperature on growth, sclerotia, aflatoxins and aflD (=nor-1) expression by Aspergillus flavus RCP08108.</a></strong><br>2012. Passone MA, Rosso LC, Etcheverry M<br>[ID: 22227105]"
      ],
      "text/plain": [
       "<IPython.core.display.HTML object>"
      ]
     },
     "metadata": {},
     "output_type": "display_data"
    },
    {
     "data": {
      "text/html": [
       "<strong><a href=http://dx.doi.org/10.1128/AEM.02127-15>Aspergillus glaucus Aquaglyceroporin Gene glpF Confers High Osmosis Tolerance in Heterologous Organisms.</a></strong><br>2015. Liu XD, Wei Y, Zhou XY, Pei X, Zhang SH<br>[ID: 26209670]"
      ],
      "text/plain": [
       "<IPython.core.display.HTML object>"
      ]
     },
     "metadata": {},
     "output_type": "display_data"
    },
    {
     "data": {
      "text/html": [
       "<strong><a href=http://dx.doi.org/10.1039/c8pp00221e>Pre-treatment of extracellular water soluble pigmented secondary metabolites of marine imperfect fungus protects HDF cells from UVB induced oxidative stress.</a></strong><br>2018. Shanuja SK, Iswarya S, Rajasekaran S, Dinesh MG, Gnanamani A<br>[ID: 30073232]"
      ],
      "text/plain": [
       "<IPython.core.display.HTML object>"
      ]
     },
     "metadata": {},
     "output_type": "display_data"
    }
   ],
   "source": [
    "def and_query(query):\n",
    "    postings_id = query_to_postings_id(query)\n",
    "    return merge_posting_lists(postings_id, postings_id[0], merging_func=and_merge)\n",
    "\n",
    "# Testing:\n",
    "for doc_id in and_query('fungal aspergillus fungus water gene'):\n",
    "    display_summary(doc_id)"
   ]
  },
  {
   "cell_type": "markdown",
   "metadata": {},
   "source": [
    "### Task 4\n",
    "\n",
    "Construct another function called `or_query` that works in the same way as `and_query` you just implemented, but returns as function value the documents that contain _at least one_ of the words in the query, using the `or_merge` function you defined.\n",
    "\n",
    "Demonstrate the working of this function also with an example (again, choose one that leads to fewer than 100 hits)."
   ]
  },
  {
   "cell_type": "code",
   "execution_count": 14,
   "metadata": {},
   "outputs": [
    {
     "data": {
      "text/html": [
       "<strong><a href=http://dx.doi.org/10.1007/BF00428605>A guide to the recent literature on aspergillosis as caused by Aspergillus fumigatus, a fungus frequently found in self-heating organic matter.</a></strong><br>1979. Marsh PB, Millner PD, Kla JM<br>[ID: 396477]"
      ],
      "text/plain": [
       "<IPython.core.display.HTML object>"
      ]
     },
     "metadata": {},
     "output_type": "display_data"
    },
    {
     "data": {
      "text/html": [
       "<strong><a href=http://dx.doi.org/10.1051/parasite/1977522211>[Coelomomyces psorophorae Couch, 1945 (Blastocladiales-Coelomomycetaceae), a parasite of Aedes detritus (Haliday, 1833) (Diptera-Culicidae) in the Camargue (author's transl)].</a></strong><br>1977. Guilvard E, Rioux JA, Manier JF, Pech-Perieres J<br>[ID: 907294]"
      ],
      "text/plain": [
       "<IPython.core.display.HTML object>"
      ]
     },
     "metadata": {},
     "output_type": "display_data"
    },
    {
     "data": {
      "text/html": [
       "<strong><a href=http://dx.doi.org/10.1111/j.1439-0507.1991.tb00859.x>Ultrastructure of black piedra.</a></strong><br>1991. de Almeida Júnior HL, Salebian A, Rivitti EA<br>[ID: 1824414]"
      ],
      "text/plain": [
       "<IPython.core.display.HTML object>"
      ]
     },
     "metadata": {},
     "output_type": "display_data"
    },
    {
     "data": {
      "text/html": [
       "<strong><a href=http://dx.doi.org/10.1111/j.1439-0507.1989.tb02236.x>Etiological agents of otomycosis in Nigeria.</a></strong><br>1989. Gugnani HC, Okafor BC, Nzelibe F, Njoku-Obi AN<br>[ID: 2503721]"
      ],
      "text/plain": [
       "<IPython.core.display.HTML object>"
      ]
     },
     "metadata": {},
     "output_type": "display_data"
    },
    {
     "data": {
      "text/html": [
       "<strong>[Urinary tract obstruction by Candida bezoars, or fungus balls].</strong><br>1986. Domart Y, Delmas V, Cornud F, Bouchama A, Chastre J, Gibert C<br>[ID: 2938118]"
      ],
      "text/plain": [
       "<IPython.core.display.HTML object>"
      ]
     },
     "metadata": {},
     "output_type": "display_data"
    },
    {
     "data": {
      "text/html": [
       "<strong>[A comparative in vitro study of the nystatin and amphotericin B sensitivity of strains of the fungus Candida albicans isolated from the birth canals of pregnant women, and a determination of the frequency of the presence of this microorganism in it].</strong><br>1974. Kukharski S, Ruzhevitska M<br>[ID: 4618756]"
      ],
      "text/plain": [
       "<IPython.core.display.HTML object>"
      ]
     },
     "metadata": {},
     "output_type": "display_data"
    },
    {
     "data": {
      "text/html": [
       "<strong>Prevalence of Candida albicans in oral cavities and root canals of children.</strong><br>2002. Akdeniz BG, Koparal E, Sen BH, Ateş M, Denizci AA<br>[ID: 12613314]"
      ],
      "text/plain": [
       "<IPython.core.display.HTML object>"
      ]
     },
     "metadata": {},
     "output_type": "display_data"
    },
    {
     "data": {
      "text/html": [
       "<strong>[Systematic study of dermatomycoses in Amsterdam from 1 April 1951 to 1 April 1957].</strong><br>1958. CREMER G<br>[ID: 13577999]"
      ],
      "text/plain": [
       "<IPython.core.display.HTML object>"
      ]
     },
     "metadata": {},
     "output_type": "display_data"
    },
    {
     "data": {
      "text/html": [
       "<strong><a href=http://dx.doi.org/10.1017/s0953756204009797>Seasonality of Laboulbenia phaeoxanthae (Ascomycota, Laboulbeniales) and its host Phaeoxantha aequinoctialis (Coleoptera, Carabidae) at a central Amazonian blackwater floodplain.</a></strong><br>2004. Zerm M, Adis J<br>[ID: 15230009]"
      ],
      "text/plain": [
       "<IPython.core.display.HTML object>"
      ]
     },
     "metadata": {},
     "output_type": "display_data"
    },
    {
     "data": {
      "text/html": [
       "<strong><a href=http://dx.doi.org/10.1007/s00572-006-0085-2>Arbuscular mycorrhizal colonization and nodulation improve flooding tolerance in Pterocarpus officinalis Jacq. seedlings.</a></strong><br>2007. Fougnies L, Renciot S, Muller F, Plenchette C, Prin Y, de Faria SM, Bouvet JM, Sylla SN, Dreyfus B, Bâ AM<br>[ID: 17143615]"
      ],
      "text/plain": [
       "<IPython.core.display.HTML object>"
      ]
     },
     "metadata": {},
     "output_type": "display_data"
    },
    {
     "data": {
      "text/html": [
       "<strong><a href=http://dx.doi.org/10.1111/j.1462-2920.2011.02444.x>Exploring and quantifying fungal diversity in freshwater lake ecosystems using rDNA cloning/sequencing and SSU tag pyrosequencing.</a></strong><br>2011. Monchy S, Sanciu G, Jobard M, Rasconi S, Gerphagnon M, Chabé M, Cian A, Meloni D, Niquil N, Christaki U, Viscogliosi E, Sime-Ngando T<br>[ID: 21635672]"
      ],
      "text/plain": [
       "<IPython.core.display.HTML object>"
      ]
     },
     "metadata": {},
     "output_type": "display_data"
    },
    {
     "data": {
      "text/html": [
       "<strong><a href=http://dx.doi.org/10.5598/imafungus.2011.02.01.14>The amsterdam declaration on fungal nomenclature.</a></strong><br>2011. Hawksworth DL, Crous PW, Redhead SA, Reynolds DR, Samson RA, Seifert KA, Taylor JW, Wingfield MJ, Abaci O, Aime C, Asan A, Bai FY, de Beer ZW, Begerow D, Berikten D, Boekhout T, Buchanan PK, Burgess T, Buzina W, Cai L, ...<br>[ID: 22679594]"
      ],
      "text/plain": [
       "<IPython.core.display.HTML object>"
      ]
     },
     "metadata": {},
     "output_type": "display_data"
    },
    {
     "data": {
      "text/html": [
       "<strong><a href=http://dx.doi.org/10.5598/imafungus.2012.03.01.08>The impacts of the discontinuation of dual nomenclature of pleomorphic fungi: the trivial facts, problems, and strategies.</a></strong><br>2012. Braun U<br>[ID: 23155502]"
      ],
      "text/plain": [
       "<IPython.core.display.HTML object>"
      ]
     },
     "metadata": {},
     "output_type": "display_data"
    },
    {
     "data": {
      "text/html": [
       "<strong><a href=http://dx.doi.org/10.1016/j.scitotenv.2013.05.058>Origin and fate of copper in a small Mediterranean vineyard catchment: new insights from combined chemical extraction and δ65Cu isotopic composition.</a></strong><br>2013. El Azzi D, Viers J, Guiresse M, Probst A, Aubert D, Caparros J, Charles F, Guizien K, Probst JL<br>[ID: 23792251]"
      ],
      "text/plain": [
       "<IPython.core.display.HTML object>"
      ]
     },
     "metadata": {},
     "output_type": "display_data"
    },
    {
     "data": {
      "text/html": [
       "<strong><a href=http://dx.doi.org/10.1007/BF00177048>Aerobic microorganisms associated with alfalfa leafcutter bees (megachile rotundata).</a></strong><br>1993. Inglis GD, Sigler L, Goette MS<br>[ID: 24190009]"
      ],
      "text/plain": [
       "<IPython.core.display.HTML object>"
      ]
     },
     "metadata": {},
     "output_type": "display_data"
    },
    {
     "data": {
      "text/html": [
       "<strong>Two peptides, cycloaspeptide A and nazumamide A from a sponge associated marine actinobacterium Salinispora sp.</strong><br>2014. Bose U, Hodson MP, Shaw PN, Fuerst JA, Hewavitharana AK<br>[ID: 24868880]"
      ],
      "text/plain": [
       "<IPython.core.display.HTML object>"
      ]
     },
     "metadata": {},
     "output_type": "display_data"
    },
    {
     "data": {
      "text/html": [
       "<strong><a href=http://dx.doi.org/10.3906/sag-1407-17>Epidemiology, causative agents, and risk factors affecting human otomycosis infections.</a></strong><br>2015. Abdelazeem M, Gamea A, Mubarak H, Elzawawy N<br>[ID: 26422852]"
      ],
      "text/plain": [
       "<IPython.core.display.HTML object>"
      ]
     },
     "metadata": {},
     "output_type": "display_data"
    },
    {
     "data": {
      "text/html": [
       "<strong><a href=http://dx.doi.org/10.3354/dao03028>Molecular and pathological characterization of Fusarium solani species complex infection in the head and lateral line system of Sphyrna lewini.</a></strong><br>2016. Pirarat N, Sahatrakul K, Lacharoje S, Lombardini E, Chansue N, Techangamsuwan S<br>[ID: 27503915]"
      ],
      "text/plain": [
       "<IPython.core.display.HTML object>"
      ]
     },
     "metadata": {},
     "output_type": "display_data"
    },
    {
     "data": {
      "text/html": [
       "<strong><a href=http://dx.doi.org/10.3390/insects7030040>Flood Stress as a Technique to Assess Preventive Insecticide and Fungicide Treatments for Protecting Trees against Ambrosia Beetles.</a></strong><br>2016. Ranger CM, Schultz PB, Reding ME, Frank SD, Palmquist DE<br>[ID: 27548230]"
      ],
      "text/plain": [
       "<IPython.core.display.HTML object>"
      ]
     },
     "metadata": {},
     "output_type": "display_data"
    },
    {
     "data": {
      "text/html": [
       "<strong><a href=http://dx.doi.org/10.4268/cjcmm20160733>[Indiscriminate use of Latin name for natural Cordyceps sinensis insect-fungi complex and multiple Ophiocordyceps sinensis fungi].</a></strong><br>2016. Yao YS, Zhu JS<br>[ID: 28879757]"
      ],
      "text/plain": [
       "<IPython.core.display.HTML object>"
      ]
     },
     "metadata": {},
     "output_type": "display_data"
    },
    {
     "data": {
      "text/html": [
       "<strong><a href=http://dx.doi.org/10.1094/PDIS-12-12-1118-PDN>First Report of Curvularia gladioli Causing a Leaf Spot on Gladiolus grandiflorus in Brazil.</a></strong><br>2013. Torres DP, Silva MA, Pinho DB, Pereira OL, Furtado GQ<br>[ID: 30722636]"
      ],
      "text/plain": [
       "<IPython.core.display.HTML object>"
      ]
     },
     "metadata": {},
     "output_type": "display_data"
    },
    {
     "data": {
      "text/html": [
       "<strong><a href=http://dx.doi.org/10.1094/PDIS.2001.85.2.232B>First U.S. Report of Pseudocercospora paederiae Leaf Spot on the Invasive Exotic Paederia foetida.</a></strong><br>2001. Walker SE, El-Gholl NE, Pratt PD, Schubert TS<br>[ID: 30831963]"
      ],
      "text/plain": [
       "<IPython.core.display.HTML object>"
      ]
     },
     "metadata": {},
     "output_type": "display_data"
    },
    {
     "data": {
      "text/html": [
       "<strong><a href=http://dx.doi.org/10.1111/myc.12979>Diagnosis and treatment of otomycosis in southern China.</a></strong><br>2019. Li Y, He L<br>[ID: 31368588]"
      ],
      "text/plain": [
       "<IPython.core.display.HTML object>"
      ]
     },
     "metadata": {},
     "output_type": "display_data"
    },
    {
     "data": {
      "text/html": [
       "<strong><a href=http://dx.doi.org/10.1128/mSphere.00483-19>Intranasal Inoculation of Cryptococcus neoformans in Mice Produces Nasal Infection with Rapid Brain Dissemination.</a></strong><br>2019. Coelho C, Camacho E, Salas A, Alanio A, Casadevall A<br>[ID: 31391283]"
      ],
      "text/plain": [
       "<IPython.core.display.HTML object>"
      ]
     },
     "metadata": {},
     "output_type": "display_data"
    },
    {
     "data": {
      "text/html": [
       "<strong><a href=http://dx.doi.org/10.1093/jisesa/iez118>Potential Distribution of Six North American Higher-Attine Fungus-Farming Ant (Hymenoptera: Formicidae) Species.</a></strong><br>2019. Senula SF, Scavetta JT, Banta JA, Mueller UG, Seal JN, Kellner K<br>[ID: 31854452]"
      ],
      "text/plain": [
       "<IPython.core.display.HTML object>"
      ]
     },
     "metadata": {},
     "output_type": "display_data"
    }
   ],
   "source": [
    "def or_query(query):\n",
    "    postings_id = query_to_postings_id(query)\n",
    "    return merge_posting_lists(postings_id, postings_id[0], merging_func=or_merge)\n",
    "\n",
    "# Testing:\n",
    "for doc_id in or_query('amsterdam canals flood pelagic'):\n",
    "    display_summary(doc_id)"
   ]
  },
  {
   "cell_type": "markdown",
   "metadata": {},
   "source": [
    "### Task 5\n",
    "\n",
    "Why does `and_query('spore infection reservoirs')` not return our example paper 28425998, even though it mentions spores, infection, and reservoirs in the abstract? (You do not have to implement anything to fix this yet!)"
   ]
  },
  {
   "cell_type": "markdown",
   "metadata": {},
   "source": [
    "**Answer:** This query doesn't return a paper that contains this text due to the simiplicity of tokenize and preprocess functions. Those functions in their current form allow for proper recognization of only 'infection' in the paper 28425998, however, spore is not properly recognized due to preprocess function and reservioirs is not properly recognized due to tokenize function. In the case of 'spore' the preprocess function should normalize plural version ('spores') to be identifiable in inverted_index['spore']. The word 'reservoirs' is not properly tokenized due to the word appearing only at the end of the sentance, hence, followed by dot ('.'). As such inverted_index['reservoirs'] currently doesn't include paper where the term 'reservoirs.' is found. In order for the query to be processed properly the processing of titles and abstracts has to include stemming (or lemmatization) as well as removal of stop words."
   ]
  },
  {
   "cell_type": "markdown",
   "metadata": {},
   "source": [
    "# Submission"
   ]
  },
  {
   "cell_type": "markdown",
   "metadata": {},
   "source": [
    "Submit the answers to the assignment via Canvas as a modified version of this Notebook file (file with `.ipynb` extension) that includes your code and your answers.\n",
    "\n",
    "Before submitting, restart the kernel and re-run the complete code (**Kernel > Restart & Run All**), and then check whether your assignment code still works as expected.\n",
    "\n",
    "Don't forget to add your name, and remember that the assignments have to be done **individually**, and that code sharing or copying are **strictly forbidden** and will be punished."
   ]
  }
 ],
 "metadata": {
  "kernelspec": {
   "display_name": "Python 3",
   "language": "python",
   "name": "python3"
  },
  "language_info": {
   "codemirror_mode": {
    "name": "ipython",
    "version": 3
   },
   "file_extension": ".py",
   "mimetype": "text/x-python",
   "name": "python",
   "nbconvert_exporter": "python",
   "pygments_lexer": "ipython3",
   "version": "3.8.6"
  }
 },
 "nbformat": 4,
 "nbformat_minor": 1
}
