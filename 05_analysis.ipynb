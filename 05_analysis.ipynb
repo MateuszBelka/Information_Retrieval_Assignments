{
 "cells": [
  {
   "cell_type": "markdown",
   "metadata": {},
   "source": [
    "# Assignment 5: Link Analysis"
   ]
  },
  {
   "cell_type": "markdown",
   "metadata": {},
   "source": [
    "In this assignment, we will use network-based algorithms, such as PageRank, to improve our search results. After the last assignment on evaluating IR systems, we go back to our PubMed dataset of scientific papers. In this dataset, we look at two graphs in particular: the co-authorship network and the citation network.\n",
    "\n",
    "The citation network is similar to the link network of the web: Citations are like web links pointing to other documents. We can therefore apply the same network-based ranking methods."
   ]
  },
  {
   "cell_type": "markdown",
   "metadata": {},
   "source": [
    "## Code from previous assignments"
   ]
  },
  {
   "cell_type": "code",
   "execution_count": 1,
   "metadata": {},
   "outputs": [],
   "source": [
    "import pickle, bz2\n",
    "from collections import defaultdict, namedtuple, Counter\n",
    "from math import log10, sqrt\n",
    "from IPython.display import display, HTML\n",
    "import matplotlib.pyplot as plt\n",
    "\n",
    "# show plots inline within the notebook\n",
    "%matplotlib inline\n",
    "# set plots' resolution\n",
    "plt.rcParams['savefig.dpi'] = 100"
   ]
  },
  {
   "cell_type": "code",
   "execution_count": 2,
   "metadata": {},
   "outputs": [],
   "source": [
    "Ids_file = 'data/fungus_Ids.pkl.bz2'\n",
    "Summaries_file = 'data/fungus_Summaries.pkl.bz2'\n",
    "Citations_file = 'data/fungus_Citations.pkl.bz2'\n",
    "Abstracts_file = 'data/fungus_Abstracts.pkl.bz2'\n",
    "\n",
    "Ids = pickle.load( bz2.BZ2File( Ids_file, 'rb' ) )\n",
    "Summaries = pickle.load( bz2.BZ2File( Summaries_file, 'rb' ) )\n",
    "Citations = pickle.load( bz2.BZ2File( Citations_file, 'rb' ) )\n",
    "Abstracts = pickle.load( bz2.BZ2File( Abstracts_file, 'rb' ) )\n",
    "\n",
    "paper = namedtuple( 'paper', ['title', 'authors', 'year', 'doi'] )\n",
    "\n",
    "for (id, paper_info) in Summaries.items():\n",
    "    Summaries[id] = paper( *paper_info )"
   ]
  },
  {
   "cell_type": "code",
   "execution_count": 3,
   "metadata": {},
   "outputs": [],
   "source": [
    "def display_summary( id, show_abstract=False, show_id=True, extra_text='' ):\n",
    "    \"\"\"\n",
    "    Function for printing a paper's summary through IPython's Rich Display System.\n",
    "    Trims long author lists, and adds a link to the paper's DOI (when available).\n",
    "    \"\"\"\n",
    "    s = Summaries[id]\n",
    "    lines = []\n",
    "    title = s.title\n",
    "    if s.doi != '':\n",
    "        title = '<a href=http://dx.doi.org/{:s}>{:s}</a>'.format(s.doi, title)\n",
    "    title = '<strong>' + title + '</strong>'\n",
    "    lines.append(title)\n",
    "    authors = ', '.join( s.authors[:20] ) + ('' if len(s.authors) <= 20 else ', ...')\n",
    "    lines.append(str(s.year) + '. ' + authors)\n",
    "    if (show_abstract):\n",
    "        lines.append('<small><strong>Abstract:</strong> <em>{:s}</em></small>'.format(Abstracts[id]))\n",
    "    if (show_id):\n",
    "        lines.append('[ID: {:d}]'.format(id))\n",
    "    if (extra_text != ''):\n",
    "         lines.append(extra_text)\n",
    "    display( HTML('<br>'.join(lines)) )"
   ]
  },
  {
   "cell_type": "code",
   "execution_count": 4,
   "metadata": {},
   "outputs": [],
   "source": [
    "def tokenize(text):\n",
    "    return text.split(' ')\n",
    "\n",
    "def preprocess(tokens):\n",
    "    result = []\n",
    "    for token in tokens:\n",
    "        result.append(token.lower())\n",
    "    return result"
   ]
  },
  {
   "cell_type": "code",
   "execution_count": 5,
   "metadata": {},
   "outputs": [],
   "source": [
    "inverted_index = defaultdict(list)\n",
    "\n",
    "for id in sorted(Summaries.keys()):\n",
    "    term_set = set(preprocess(tokenize(Summaries[id].title)))\n",
    "    if id in Abstracts:\n",
    "        term_set.update(preprocess(tokenize(Abstracts[id])))\n",
    "    for term in term_set:\n",
    "        inverted_index[term].append(id)\n",
    "\n",
    "tf_matrix = defaultdict(Counter)\n",
    "\n",
    "for doc_id in Summaries.keys():\n",
    "    tokens = preprocess(tokenize(Summaries[doc_id].title))\n",
    "    if (doc_id in Abstracts):\n",
    "        tokens.extend(preprocess(tokenize(Abstracts[doc_id])))\n",
    "    tf_matrix[doc_id] = Counter(tokens)\n",
    "\n",
    "def tf(t,d):\n",
    "    return float(tf_matrix[d][t])\n",
    "\n",
    "def df(t):\n",
    "    return float(len(inverted_index[t]))\n",
    "\n",
    "num_documents = float(len(Summaries))\n",
    "\n",
    "def idf(t):\n",
    "    return log10((num_documents + 1)/(df(t) + 1))\n",
    "\n",
    "def tfidf(t,d):\n",
    "    return tf(t,d) * idf(t)"
   ]
  },
  {
   "cell_type": "markdown",
   "metadata": {},
   "source": [
    "## Co-authorship network"
   ]
  },
  {
   "cell_type": "markdown",
   "metadata": {},
   "source": [
    "We start by building a mapping from authors to the set of identifiers of papers they authored.  We'll be using Python sets again for that purpose."
   ]
  },
  {
   "cell_type": "code",
   "execution_count": 6,
   "metadata": {},
   "outputs": [],
   "source": [
    "papers_of_author = defaultdict(set)\n",
    "\n",
    "for (id, p) in Summaries.items():\n",
    "    for a in p.authors:\n",
    "        papers_of_author[a].add(id)"
   ]
  },
  {
   "cell_type": "markdown",
   "metadata": {},
   "source": [
    "Let's try it out:"
   ]
  },
  {
   "cell_type": "code",
   "execution_count": 7,
   "metadata": {},
   "outputs": [
    {
     "data": {
      "text/plain": [
       "{25154107, 28425998, 29491409, 30868671}"
      ]
     },
     "execution_count": 7,
     "metadata": {},
     "output_type": "execute_result"
    }
   ],
   "source": [
    "papers_of_author['Canessa S']"
   ]
  },
  {
   "cell_type": "code",
   "execution_count": 8,
   "metadata": {},
   "outputs": [
    {
     "data": {
      "text/html": [
       "<strong><a href=http://dx.doi.org/10.1038/s41598-018-22225-9>Post-epizootic salamander persistence in a disease-free refugium suggests poor dispersal ability of Batrachochytrium salamandrivorans.</a></strong><br>2018. Spitzen-van der Sluijs A, Stegen G, Bogaerts S, Canessa S, Steinfartz S, Janssen N, Bosman W, Pasmans F, Martel A<br>[ID: 29491409]"
      ],
      "text/plain": [
       "<IPython.core.display.HTML object>"
      ]
     },
     "metadata": {},
     "output_type": "display_data"
    },
    {
     "data": {
      "text/html": [
       "<strong><a href=http://dx.doi.org/10.1890/13-0103.1>Designing screening protocols for amphibian disease that account for imperfect and variable capture rates of individuals.</a></strong><br>2014. Canessa S, Martel A, Pasmans F<br>[ID: 25154107]"
      ],
      "text/plain": [
       "<IPython.core.display.HTML object>"
      ]
     },
     "metadata": {},
     "output_type": "display_data"
    },
    {
     "data": {
      "text/html": [
       "<strong><a href=http://dx.doi.org/10.1038/nature22059>Drivers of salamander extirpation mediated by Batrachochytrium salamandrivorans.</a></strong><br>2017. Stegen G, Pasmans F, Schmidt BR, Rouffaer LO, Van Praet S, Schaub M, Canessa S, Laudelout A, Kinet T, Adriaensen C, Haesebrouck F, Bert W, Bossuyt F, Martel A<br>[ID: 28425998]"
      ],
      "text/plain": [
       "<IPython.core.display.HTML object>"
      ]
     },
     "metadata": {},
     "output_type": "display_data"
    },
    {
     "data": {
      "text/html": [
       "<strong><a href=http://dx.doi.org/10.1111/cobi.13313>Quantifying the burden of managing wildlife diseases in multiple host species.</a></strong><br>2019. Canessa S, Bozzuto C, Pasmans F, Martel A<br>[ID: 30868671]"
      ],
      "text/plain": [
       "<IPython.core.display.HTML object>"
      ]
     },
     "metadata": {},
     "output_type": "display_data"
    }
   ],
   "source": [
    "for id in papers_of_author['Canessa S']:\n",
    "    display_summary(id)"
   ]
  },
  {
   "cell_type": "markdown",
   "metadata": {},
   "source": [
    "We can now build a co-authorship network, that is a graph linking authors to the set of co-authors they have published with:"
   ]
  },
  {
   "cell_type": "code",
   "execution_count": 9,
   "metadata": {},
   "outputs": [],
   "source": [
    "coauthors = defaultdict(set)\n",
    "\n",
    "for p in Summaries.values():\n",
    "    for a in p.authors:\n",
    "        coauthors[a].update(p.authors)\n",
    "\n",
    "# The code above results in each author being listed as having co-authored with himself/herself.\n",
    "# We remove these self-references here:\n",
    "for (a, ca) in coauthors.items():\n",
    "    ca.remove(a)"
   ]
  },
  {
   "cell_type": "markdown",
   "metadata": {},
   "source": [
    "And let's try it out again:"
   ]
  },
  {
   "cell_type": "code",
   "execution_count": 10,
   "metadata": {},
   "outputs": [
    {
     "name": "stdout",
     "output_type": "stream",
     "text": [
      "Bogaerts S, Van Praet S, Haesebrouck F, Schmidt BR, Bosman W, Pasmans F, Schaub M, Martel A, Steinfartz S, Bert W, Rouffaer LO, Spitzen-van der Sluijs A, Laudelout A, Stegen G, Bozzuto C, Janssen N, Kinet T, Bossuyt F, Adriaensen C\n"
     ]
    }
   ],
   "source": [
    "print(', '.join( coauthors['Canessa S'] ))"
   ]
  },
  {
   "cell_type": "markdown",
   "metadata": {},
   "source": [
    "Unlike a citation or link network, the edges of this co-authorship network are not directed: There is no direction (no arrow) in the link between author 'Canessa S' and 'Schmidt BR', for example. With our chosen implementation, each of these links in fact appears twice in our data, as we also get 'Canessa S' as co-author when we look for 'Schmidt BR':"
   ]
  },
  {
   "cell_type": "code",
   "execution_count": 11,
   "metadata": {},
   "outputs": [
    {
     "name": "stdout",
     "output_type": "stream",
     "text": [
      "Wagner N, Nishikawa K, Kolby JE, Verster R, Farrer RA, Clare F, Van Praet S, Nguyen TT, Grassly NC, Garcia G, Bataille A, Marin da Fonte LF, Lips KR, Sheafor B, Tessa G, Schaub M, Doherty-Bone TM, Bales EK, Oliver JA, Cunningham AA, Zamudio KR, Rouffaer LO, Veith M, Muletz C, Wierzbicki C, Ducatelle R, Soto-Azat C, Cashins S, Sabino-Pinto J, Tobler U, Wombwell E, Speybroeck J, Bletz MC, Ghosh P, Vörös J, Webb RJ, Kerres A, Blooi M, Garner TWJ, Puschendorf R, Balloux F, Ohlhoff D, Briggs CJ, Spikmans F, Doddington BJ, Bates KA, Davis LR, Dalbeck L, Martel A, Wales N, Steinfartz S, Bert W, Woodhams DC, Rieux A, Salvidio S, Jenkinson TS, Laudelout A, Stegen G, Waldman B, Kosch TA, Canessa S, Brankovics B, Bossuyt F, Meurling S, Nöllert A, Courtois EA, Martin MD, Vences M, Pasmans F, Goka K, James TY, Voyles J, Van Bocxlaer I, Muths E, Miaud C, Lin CF, Van Rooij P, Smith F, Shelton JMG, Kirst K, Lötters S, Loyau A, Skerratt LF, Bozzuto C, Gower DJ, Minting P, Laurila A, Bosch J, Böll S, Beukema W, Murray KA, Schmeller DS, Valenzuela-Sánchez A, Haesebrouck F, Toledo LF, O'Hanlon SJ, Lauer A, Spagnoletti M, Höglund J, Fumagalli M, Hintz WE, Gilbert MTP, Berger L, Geiger CC, Asselberghs J, Spitzen-van der Sluijs A, Aanensen DM, Weldon C, Kinet T, Borgula A, Brookes L, Goverse E, Fisher MC, Adriaensen C, Garner TW, Alvarado-Rybak M, Rosa GM\n"
     ]
    }
   ],
   "source": [
    "print(', '.join( coauthors['Schmidt BR'] ))"
   ]
  },
  {
   "cell_type": "markdown",
   "metadata": {},
   "source": [
    "With that in mind, we can calculate some basic statistics about our graph:"
   ]
  },
  {
   "cell_type": "code",
   "execution_count": 12,
   "metadata": {},
   "outputs": [
    {
     "name": "stdout",
     "output_type": "stream",
     "text": [
      "Number of nodes (authors):  120759\n",
      "Number of links (co-authorship relations):  708774\n"
     ]
    }
   ],
   "source": [
    "print('Number of nodes (authors): ', len(coauthors))\n",
    "\n",
    "# We divide by two here to account for the fact that each edge is represented twice (see above):\n",
    "coauthor_rel_count = int(sum( len(c) for c in coauthors.values() ) / 2)\n",
    "print('Number of links (co-authorship relations): ', coauthor_rel_count)"
   ]
  },
  {
   "cell_type": "markdown",
   "metadata": {},
   "source": [
    "With this data at hand, we can plot the [degree distribution](https://en.wikipedia.org/wiki/Degree_distribution) by showing the number of collaborators a scientist has published with:"
   ]
  },
  {
   "cell_type": "code",
   "execution_count": 13,
   "metadata": {},
   "outputs": [
    {
     "data": {
      "image/png": "[encoded data removed]",
      "text/plain": [
       "<Figure size 432x288 with 1 Axes>"
      ]
     },
     "metadata": {
      "needs_background": "light"
     },
     "output_type": "display_data"
    }
   ],
   "source": [
    "plt.hist( x=[ len(ca) for ca in coauthors.values() ], bins=range(60) )\n",
    "plt.xlabel('number of co-authors')\n",
    "plt.ylabel('number of researchers')\n",
    "plt.xlim(0,51);"
   ]
  },
  {
   "cell_type": "markdown",
   "metadata": {},
   "source": [
    "Now that we have explored this network, let's move to the citation network."
   ]
  },
  {
   "cell_type": "markdown",
   "metadata": {},
   "source": [
    "## Citations network"
   ]
  },
  {
   "cell_type": "markdown",
   "metadata": {},
   "source": [
    "Next, we can look at the citation network. In contrast to the co-authorship network, the citation network is a _directed_ network, where edges can be drawn as arrows. We'll start by expanding the our data about citations into two mappings: \n",
    "\n",
    "* `papers_citing[id]`: papers citing a given paper\n",
    "* `cited_by[id]`: papers cited by a given paper (in other words: its list of references)\n",
    "\n",
    "`papers_citing` will give us the list of a node's incoming links, whereas `cited_by` will give us the list of its outgoing links."
   ]
  },
  {
   "cell_type": "code",
   "execution_count": 14,
   "metadata": {},
   "outputs": [],
   "source": [
    "papers_citing = Citations  # no changes needed, this is what we are storing already in the Citations dataset\n",
    "\n",
    "cited_by = defaultdict(list)\n",
    "\n",
    "for ref, papers_citing_ref in papers_citing.items():\n",
    "    for id in papers_citing_ref:\n",
    "        cited_by[ id ].append( ref )"
   ]
  },
  {
   "cell_type": "markdown",
   "metadata": {},
   "source": [
    "As we are dealing with a subset of the data (the papers mentioning \"fungus\"), `papers_citing` can contain references to papers outside of our subset. On the other hand, the way we created `cited_by`, it will only contain backward references from within our dataset, meaning that it is incomplete with respect to the whole dataset. Nethertheless, we can use this citation network on our subset of fungus-related papers to implement link analysis techniques.\n",
    "\n",
    "Let us now look at an exemplary paper, let's say the one with identifier 29907567. We can now use the `cited_by` mapping to retrieve its (incomplete) list of references:"
   ]
  },
  {
   "cell_type": "code",
   "execution_count": 15,
   "metadata": {},
   "outputs": [
    {
     "name": "stdout",
     "output_type": "stream",
     "text": [
      "3 references found for paper 29907567\n"
     ]
    },
    {
     "data": {
      "text/plain": [
       "{29588468: 'Ras hyperactivation versus overexpression: Lessons from Ras dynamics in Candida albicans.',\n",
       " 15302823: 'Ectopic expression of URA3 can influence the virulence phenotypes and proteome of Candida albicans but can be overcome by targeted reintegration of URA3 at the RPS10 locus.',\n",
       " 11722734: 'Ras links cellular morphogenesis to virulence by regulation of the MAP kinase and cAMP signalling pathways in the pathogenic fungus Candida albicans.'}"
      ]
     },
     "execution_count": 15,
     "metadata": {},
     "output_type": "execute_result"
    }
   ],
   "source": [
    "paper_id = 29907567\n",
    "refs = { id : Summaries[id].title for id in cited_by[paper_id] }\n",
    "print(len(refs), 'references found for paper', paper_id)\n",
    "refs"
   ]
  },
  {
   "cell_type": "markdown",
   "metadata": {},
   "source": [
    "If we lookup the same paper in `papers_citing`, we now see that some of the cited papers are themselves in our dataset, but others are not (shown below as `'??'`):"
   ]
  },
  {
   "cell_type": "code",
   "execution_count": 16,
   "metadata": {},
   "outputs": [
    {
     "data": {
      "text/plain": [
       "{32102426: 'The Role of Secretory Pathways in <i>Candida albicans</i> Pathogenesis.',\n",
       " 31440220: '??',\n",
       " 31186458: '??'}"
      ]
     },
     "execution_count": 16,
     "metadata": {},
     "output_type": "execute_result"
    }
   ],
   "source": [
    "{ id : Summaries.get(id,['??'])[0]  for id in papers_citing[paper_id] }"
   ]
  },
  {
   "cell_type": "markdown",
   "metadata": {},
   "source": [
    "Paper 31186458, for example, is not in our dataset and we do not have any direct information about it, but its repeated occurrence in other papers' citation lists does allow us to reconstruct some of its references. Below is the list of papers in our dataset cited by that paper:"
   ]
  },
  {
   "cell_type": "code",
   "execution_count": 17,
   "metadata": {},
   "outputs": [
    {
     "name": "stdout",
     "output_type": "stream",
     "text": [
      "4 references identified for the paper with id 31186458\n"
     ]
    },
    {
     "data": {
      "text/plain": [
       "{29907567: 'Ras signaling activates glycosylphosphatidylinositol (GPI) anchor biosynthesis via the GPI-<i>N</i>-acetylglucosaminyltransferase (GPI-GnT) in <i>Candida albicans</i>.',\n",
       " 15470093: 'Deficiencies in the essential Smp3 mannosyltransferase block glycosylphosphatidylinositol assembly and lead to defects in growth and cell wall biogenesis in Candida albicans.',\n",
       " 15302823: 'Ectopic expression of URA3 can influence the virulence phenotypes and proteome of Candida albicans but can be overcome by targeted reintegration of URA3 at the RPS10 locus.',\n",
       " 12101300: 'GPI7 affects cell-wall protein anchorage in Saccharomyces cerevisiae and Candida albicans.'}"
      ]
     },
     "execution_count": 17,
     "metadata": {},
     "output_type": "execute_result"
    }
   ],
   "source": [
    "paper_id2 = 31186458\n",
    "refs2 = { id : Summaries[id].title for id in cited_by[paper_id2] }\n",
    "print(len(refs2), 'references identified for the paper with id', paper_id2)\n",
    "refs2"
   ]
  },
  {
   "cell_type": "markdown",
   "metadata": {},
   "source": [
    "Now that we have a better understanding about the data we're dealing with, let us obtain again some basic statistics about our graph."
   ]
  },
  {
   "cell_type": "code",
   "execution_count": 18,
   "metadata": {},
   "outputs": [
    {
     "name": "stdout",
     "output_type": "stream",
     "text": [
      "Number of papers in our subset: 54751 (100.00 %)\n",
      "Number of papers cited at least once: 39069 (71.36 %)\n",
      "Number of isolated nodes:  13506 (24.67 %)\n"
     ]
    }
   ],
   "source": [
    "n = len(Ids)\n",
    "print('Number of papers in our subset: {:d} ({:.2f} %)'.format(n, 100.0) )\n",
    "\n",
    "with_citation = [ id for id in Ids if papers_citing[id] != [] ]\n",
    "with_citation_rel = 100. * len(with_citation) / n\n",
    "print('Number of papers cited at least once: {:d} ({:.2f} %)'.format(len(with_citation), with_citation_rel) )\n",
    "\n",
    "isolated = set( id for id in Ids if papers_citing[id] == [] and id not in cited_by )\n",
    "isolated_rel = 100. * len(isolated) / n\n",
    "print('Number of isolated nodes:  {:d} ({:.2f} %)'.format(len(isolated), isolated_rel) )"
   ]
  },
  {
   "cell_type": "code",
   "execution_count": 19,
   "metadata": {},
   "outputs": [
    {
     "name": "stdout",
     "output_type": "stream",
     "text": [
      "Overall number of nodes: 163671 (100.00 %)\n",
      "Number of non-isolated nodes: 150165 (91.75 %)\n",
      "Number of nodes outside our subset: 108920 (66.55 %)\n"
     ]
    }
   ],
   "source": [
    "id_set = set( Ids )\n",
    "citing_set = set( cited_by.keys() )\n",
    "\n",
    "outsiders = citing_set - id_set   # set difference\n",
    "nodes = citing_set | id_set   # set union\n",
    "non_isolated = nodes - isolated   # set difference\n",
    "\n",
    "print('Overall number of nodes: {:d} ({:.2f} %)'.format(len(nodes), 100.0) )\n",
    "\n",
    "non_isolated_rel = 100. * len(non_isolated) / len(nodes)\n",
    "print('Number of non-isolated nodes: {:d} ({:.2f} %)'.format(len(non_isolated), non_isolated_rel) )\n",
    "\n",
    "outsiders_rel = 100. * len(outsiders) / len(nodes)\n",
    "print('Number of nodes outside our subset: {:d} ({:.2f} %)'.format( len(outsiders), outsiders_rel ) )"
   ]
  },
  {
   "cell_type": "code",
   "execution_count": 20,
   "metadata": {},
   "outputs": [
    {
     "name": "stdout",
     "output_type": "stream",
     "text": [
      "Overall number of links (citations): 377535 (100.00 %)\n",
      "Citations outside the subset: 278998 (73.90 %)\n"
     ]
    }
   ],
   "source": [
    "all_citations = [ c for citing in papers_citing.values() for c in citing ]\n",
    "outsider_citations = [ c for citing in papers_citing.values() for c in citing if c in outsiders ]\n",
    "\n",
    "print('Overall number of links (citations): {:d} ({:.2f} %)'.format(len(all_citations), 100.0) )\n",
    "\n",
    "outsider_citations_rel = 100. * len(outsider_citations) / len(all_citations)\n",
    "print('Citations outside the subset: {:d} ({:.2f} %)'.format(len(outsider_citations), outsider_citations_rel) )"
   ]
  },
  {
   "cell_type": "markdown",
   "metadata": {},
   "source": [
    "Let us now find our which 10 papers are the most cited in our dataset."
   ]
  },
  {
   "cell_type": "code",
   "execution_count": 21,
   "metadata": {},
   "outputs": [
    {
     "data": {
      "text/html": [
       "<strong><a href=http://dx.doi.org/10.1002/yea.320101310>New heterologous modules for classical or PCR-based gene disruptions in Saccharomyces cerevisiae.</a></strong><br>1994. Wach A, Brachat A, Pöhlmann R, Philippsen P<br>[ID: 7747518]<br>Citation count: 1065"
      ],
      "text/plain": [
       "<IPython.core.display.HTML object>"
      ]
     },
     "metadata": {},
     "output_type": "display_data"
    },
    {
     "data": {
      "text/html": [
       "<strong>Aspergillus fumigatus and aspergillosis.</strong><br>1999. Latgé JP<br>[ID: 10194462]<br>Citation count: 572"
      ],
      "text/plain": [
       "<IPython.core.display.HTML object>"
      ]
     },
     "metadata": {},
     "output_type": "display_data"
    },
    {
     "data": {
      "text/html": [
       "<strong><a href=http://dx.doi.org/10.1038/nature01554>The genome sequence of the filamentous fungus Neurospora crassa.</a></strong><br>2003. Galagan JE, Calvo SE, Borkovich KA, Selker EU, Read ND, Jaffe D, FitzHugh W, Ma LJ, Smirnov S, Purcell S, Rehman B, Elkins T, Engels R, Wang S, Nielsen CB, Butler J, Endrizzi M, Qui D, Ianakiev P, Bell-Pedersen D, ...<br>[ID: 12712197]<br>Citation count: 517"
      ],
      "text/plain": [
       "<IPython.core.display.HTML object>"
      ]
     },
     "metadata": {},
     "output_type": "display_data"
    },
    {
     "data": {
      "text/html": [
       "<strong><a href=http://dx.doi.org/10.1111/j.1364-3703.2011.00783.x>The Top 10 fungal pathogens in molecular plant pathology.</a></strong><br>2012. Dean R, Van Kan JA, Pretorius ZA, Hammond-Kosack KE, Di Pietro A, Spanu PD, Rudd JJ, Dickman M, Kahmann R, Ellis J, Foster GD<br>[ID: 22471698]<br>Citation count: 509"
      ],
      "text/plain": [
       "<IPython.core.display.HTML object>"
      ]
     },
     "metadata": {},
     "output_type": "display_data"
    },
    {
     "data": {
      "text/html": [
       "<strong><a href=http://dx.doi.org/10.1073/pnas.0601456103>A high-throughput gene knockout procedure for Neurospora reveals functions for multiple transcription factors.</a></strong><br>2006. Colot HV, Park G, Turner GE, Ringelberg C, Crew CM, Litvinkova L, Weiss RL, Borkovich KA, Dunlap JC<br>[ID: 16801547]<br>Citation count: 462"
      ],
      "text/plain": [
       "<IPython.core.display.HTML object>"
      ]
     },
     "metadata": {},
     "output_type": "display_data"
    },
    {
     "data": {
      "text/html": [
       "<strong><a href=http://dx.doi.org/10.1038/nature08358>Genome sequence and analysis of the Irish potato famine pathogen Phytophthora infestans.</a></strong><br>2009. Haas BJ, Kamoun S, Zody MC, Jiang RH, Handsaker RE, Cano LM, Grabherr M, Kodira CD, Raffaele S, Torto-Alalibo T, Bozkurt TO, Ah-Fong AM, Alvarado L, Anderson VL, Armstrong MR, Avrova A, Baxter L, Beynon J, Boevink PC, Bollmann SR, ...<br>[ID: 19741609]<br>Citation count: 443"
      ],
      "text/plain": [
       "<IPython.core.display.HTML object>"
      ]
     },
     "metadata": {},
     "output_type": "display_data"
    },
    {
     "data": {
      "text/html": [
       "<strong><a href=http://dx.doi.org/10.1038/nature08652>High-performance genetically targetable optical neural silencing by light-driven proton pumps.</a></strong><br>2010. Chow BY, Han X, Dobry AS, Qian X, Chuong AS, Li M, Henninger MA, Belfort GM, Lin Y, Monahan PE, Boyden ES<br>[ID: 20054397]<br>Citation count: 441"
      ],
      "text/plain": [
       "<IPython.core.display.HTML object>"
      ]
     },
     "metadata": {},
     "output_type": "display_data"
    },
    {
     "data": {
      "text/html": [
       "<strong><a href=http://dx.doi.org/10.1038/nature04332>Genomic sequence of the pathogenic and allergenic filamentous fungus Aspergillus fumigatus.</a></strong><br>2005. Nierman WC, Pain A, Anderson MJ, Wortman JR, Kim HS, Arroyo J, Berriman M, Abe K, Archer DB, Bermejo C, Bennett J, Bowyer P, Chen D, Collins M, Coulsen R, Davies R, Dyer PS, Farman M, Fedorova N, Fedorova N, ...<br>[ID: 16372009]<br>Citation count: 428"
      ],
      "text/plain": [
       "<IPython.core.display.HTML object>"
      ]
     },
     "metadata": {},
     "output_type": "display_data"
    },
    {
     "data": {
      "text/html": [
       "<strong><a href=http://dx.doi.org/10.1038/nature03449>The genome sequence of the rice blast fungus Magnaporthe grisea.</a></strong><br>2005. Dean RA, Talbot NJ, Ebbole DJ, Farman ML, Mitchell TK, Orbach MJ, Thon M, Kulkarni R, Xu JR, Pan H, Read ND, Lee YH, Carbone I, Brown D, Oh YY, Donofrio N, Jeong JS, Soanes DM, Djonovic S, Kolomiets E, ...<br>[ID: 15846337]<br>Citation count: 421"
      ],
      "text/plain": [
       "<IPython.core.display.HTML object>"
      ]
     },
     "metadata": {},
     "output_type": "display_data"
    },
    {
     "data": {
      "text/html": [
       "<strong><a href=http://dx.doi.org/10.1073/pnas.88.16.7160>A constant rate of spontaneous mutation in DNA-based microbes.</a></strong><br>1991. Drake JW<br>[ID: 1831267]<br>Citation count: 417"
      ],
      "text/plain": [
       "<IPython.core.display.HTML object>"
      ]
     },
     "metadata": {},
     "output_type": "display_data"
    }
   ],
   "source": [
    "citation_count_per_paper = [ (id, len(citations)) for (id,citations) in papers_citing.items() ]\n",
    "sorted_by_citation_count = sorted(citation_count_per_paper, key=lambda i:i[1], reverse=True)\n",
    "\n",
    "for (id, c) in sorted_by_citation_count[:10]:\n",
    "    display_summary(id, extra_text = 'Citation count: ' + str(c))"
   ]
  },
  {
   "cell_type": "markdown",
   "metadata": {},
   "source": [
    "Before we can start calculating some interesting network metrics, we will first have a closer look at the Python package that we are going to use for that."
   ]
  },
  {
   "cell_type": "markdown",
   "metadata": {},
   "source": [
    "## Link Analysis for Search Engines"
   ]
  },
  {
   "cell_type": "markdown",
   "metadata": {},
   "source": [
    "In order to use the citation network, we need to be able to perform some complex graph algorithms on it. To make our lives easier, we will use [NetworkX](https://pypi.python.org/pypi/networkx), a Python package for dealing with complex networks:"
   ]
  },
  {
   "cell_type": "code",
   "execution_count": 22,
   "metadata": {},
   "outputs": [
    {
     "name": "stdout",
     "output_type": "stream",
     "text": [
      "Requirement already satisfied: networkx in c:\\users\\bunio\\appdata\\roaming\\python\\python38\\site-packages (2.5)\n",
      "Requirement already satisfied: decorator>=4.3.0 in c:\\users\\bunio\\appdata\\local\\programs\\python\\python38\\lib\\site-packages (from networkx) (4.4.2)\n"
     ]
    }
   ],
   "source": [
    "! pip install --user networkx"
   ]
  },
  {
   "cell_type": "code",
   "execution_count": 23,
   "metadata": {},
   "outputs": [],
   "source": [
    "import networkx as nx\n",
    "\n",
    "G = nx.DiGraph(cited_by)"
   ]
  },
  {
   "cell_type": "markdown",
   "metadata": {},
   "source": [
    "We now have a NetworkX Directed Graph stored in `G`, where a node represents a paper, and an edge represents a citation. This means we can now apply the [algorithms](http://networkx.github.io/documentation/networkx-1.10/reference/algorithms.html) and [functions](http://networkx.github.io/documentation/networkx-1.10/reference/functions.html) of NetworkX to our graph:"
   ]
  },
  {
   "cell_type": "code",
   "execution_count": 24,
   "metadata": {},
   "outputs": [
    {
     "name": "stdout",
     "output_type": "stream",
     "text": [
      "Name: \n",
      "Type: DiGraph\n",
      "Number of nodes: 150165\n",
      "Number of edges: 377535\n",
      "Average in degree:   2.5141\n",
      "Average out degree:   2.5141\n",
      "Directed graph: True\n",
      "Density of graph: 1.6742591114399504e-05\n"
     ]
    }
   ],
   "source": [
    "print(nx.info(G))\n",
    "print('Directed graph:', nx.is_directed(G))\n",
    "print('Density of graph:', nx.density(G))"
   ]
  },
  {
   "cell_type": "markdown",
   "metadata": {},
   "source": [
    "As this graph was generated from citations only, we need to add all isolated nodes (nodes that are not cited and do not cite other papers) as well:"
   ]
  },
  {
   "cell_type": "code",
   "execution_count": 25,
   "metadata": {},
   "outputs": [],
   "source": [
    "G.add_nodes_from(isolated)"
   ]
  },
  {
   "cell_type": "markdown",
   "metadata": {},
   "source": [
    "And now we get slightly different values:"
   ]
  },
  {
   "cell_type": "code",
   "execution_count": 26,
   "metadata": {},
   "outputs": [
    {
     "name": "stdout",
     "output_type": "stream",
     "text": [
      "Name: \n",
      "Type: DiGraph\n",
      "Number of nodes: 163671\n",
      "Number of edges: 377535\n",
      "Average in degree:   2.3067\n",
      "Average out degree:   2.3067\n",
      "Directed graph: True\n",
      "Density of graph: 1.4093420224626821e-05\n"
     ]
    }
   ],
   "source": [
    "print(nx.info(G))\n",
    "print('Directed graph:', nx.is_directed(G))\n",
    "print('Density of graph:', nx.density(G))"
   ]
  },
  {
   "cell_type": "markdown",
   "metadata": {},
   "source": [
    "Now we are ready to use this package for our tasks."
   ]
  },
  {
   "cell_type": "markdown",
   "metadata": {},
   "source": [
    "----------"
   ]
  },
  {
   "cell_type": "markdown",
   "metadata": {},
   "source": [
    "# Tasks"
   ]
  },
  {
   "cell_type": "markdown",
   "metadata": {},
   "source": [
    "**Your name:** Mateusz Belka"
   ]
  },
  {
   "cell_type": "markdown",
   "metadata": {},
   "source": [
    "### Task 1\n",
    "\n",
    "Plot the in-degree distribution (that is, the distribution of the number of incoming links; see [here](https://en.wikipedia.org/wiki/Degree_distribution) and [here](http://mathinsight.org/degree_distribution) for more detailed explanations) for the citation network. What can you tell about the shape of this distribution, and what does this tell us about the network?"
   ]
  },
  {
   "cell_type": "code",
   "execution_count": 27,
   "metadata": {},
   "outputs": [
    {
     "name": "stdout",
     "output_type": "stream",
     "text": [
      "28.64 % of papers have been cited zero times by other papers.\n",
      "13.75 % of papers have been cited one time by other papers.\n",
      "9.87 % of papers have been cited two times by other papers.\n"
     ]
    },
    {
     "data": {
      "image/png": "[encoded data removed]",
      "text/plain": [
       "<Figure size 864x288 with 2 Axes>"
      ]
     },
     "metadata": {
      "needs_background": "light"
     },
     "output_type": "display_data"
    }
   ],
   "source": [
    "in_degrees = [len(d) for d in papers_citing.values()]\n",
    "in_values = sorted(set(in_degrees))\n",
    "in_hist = [in_degrees.count(x) for x in in_values]\n",
    "\n",
    "fig, axes = plt.subplots(nrows=1, ncols=2, figsize=(12, 4))\n",
    "fig.subplots_adjust(wspace=.5) # Add horizontal spacing between subplots\n",
    "axes[0].plot(in_values, in_hist) # Left plot\n",
    "axes[0].set_title('Indegree Distribution of Paper Citations')\n",
    "axes[0].set_xlabel('Degree')\n",
    "axes[0].set_ylabel('Fraction of nodes')\n",
    "\n",
    "axes[1].plot(in_values, in_hist) # Right plot (zoomed in)\n",
    "axes[1].set_title('Indegree Distribution of Paper Citations')\n",
    "axes[1].set_xlabel('Degree')\n",
    "axes[1].set_ylabel('Fraction of nodes')\n",
    "axes[1].set_xlim([0,5]);\n",
    "\n",
    "total = len(papers_citing)\n",
    "not_cited_rel = 100. * in_hist[0] / total\n",
    "cited_once_rel = 100. * in_hist[1] / total\n",
    "cited_twice_rel = 100. * in_hist[2] / total\n",
    "\n",
    "print('{:.2f} % of papers have been cited zero times by other papers.'.format(not_cited_rel))\n",
    "print('{:.2f} % of papers have been cited one time by other papers.'.format(cited_once_rel))\n",
    "print('{:.2f} % of papers have been cited two times by other papers.'.format(cited_twice_rel))"
   ]
  },
  {
   "cell_type": "markdown",
   "metadata": {},
   "source": [
    "**Answer:** The vast majority of papers are not cited by other papers or are cited only a few times. As the number of citations increases the number of papers that meet this requirement drastically lowers. Nearly one-third of all papers are not cited at all by other papers. ~14% of all papers are cited once, and ~10% are cited twice. The distribution of paper citations seems to follow a power law. Due to the nature of power law, the curve quickly approaches 0% and has a lengthy tail.\n",
    "\n",
    "Due to the apparent existence of power-law this network might have the scale-free property. We know that new nodes tend to join an existing 'system', in our case the paper not being cited. However, we don't know whether the network has 'preferential attachment' where new papers have a preference to connect with papers that are already being cited by several other papers. Further analysis is necessary to confidently call this network scale-free."
   ]
  },
  {
   "cell_type": "markdown",
   "metadata": {},
   "source": [
    "### Task 2\n",
    "\n",
    "Using the [Link Analysis](https://networkx.github.io/documentation/networkx-1.10/reference/algorithms.link_analysis.html) algorithms provided by NetworkX, calculate the PageRank score for all nodes in the citation network, and store the result in a variable called `pageranks`. You can also use the `pagerank_scipy` implementation, which tends to be considerably faster than its regular `pagerank` counterpart, for which you have to install the [SciPy package](http://scipy.org/):"
   ]
  },
  {
   "cell_type": "code",
   "execution_count": 28,
   "metadata": {},
   "outputs": [
    {
     "name": "stdout",
     "output_type": "stream",
     "text": [
      "Requirement already satisfied: scipy in c:\\users\\bunio\\appdata\\local\\programs\\python\\python38\\lib\\site-packages (1.5.2)\n",
      "Requirement already satisfied: numpy>=1.14.5 in c:\\users\\bunio\\appdata\\local\\programs\\python\\python38\\lib\\site-packages (from scipy) (1.19.2)\n"
     ]
    }
   ],
   "source": [
    "! pip install --user scipy"
   ]
  },
  {
   "cell_type": "markdown",
   "metadata": {},
   "source": [
    "To test this, create first a list of all papers that are cited by exactly 10 other papers (using `papers_citing` defined above). Then sort these papers by their PageRank and retrieve the paper IDs with the maximum and minimum PageRank values. Print these minimum and maximum PageRank values together with their paper IDs.\n",
    "\n",
    "To print PageRank values, you might want to use commands like `print('{:.6f}'.format(var))` to use regular decimal notation with a fixed number of decimal places."
   ]
  },
  {
   "cell_type": "code",
   "execution_count": 29,
   "metadata": {},
   "outputs": [
    {
     "name": "stdout",
     "output_type": "stream",
     "text": [
      "For papers that have been cited exactly 10 times:\n",
      "1936991 are the papers with the highest pagerank of: 0.000119\n",
      "26718720 are the papers with the lowest pagerank of: 0.000004\n"
     ]
    }
   ],
   "source": [
    "pageranks = nx.pagerank_scipy(G)\n",
    "\n",
    "cited_10_times_rank = {paper : pageranks[paper] for paper, cited_papers in papers_citing.items() if len(cited_papers) == 10}\n",
    "\n",
    "highest_pagerank = max(cited_10_times_rank.values())\n",
    "highest_pagerank_papers = [k for k, v in cited_10_times_rank.items() if v == highest_pagerank]\n",
    "\n",
    "lowest_pagerank = min(cited_10_times_rank.values())\n",
    "lowest_pagerank_papers = [k for k, v in cited_10_times_rank.items() if v == lowest_pagerank]\n",
    "\n",
    "print('For papers that have been cited exactly 10 times:')\n",
    "print('{} are the papers with the highest pagerank of: {:.6f}'.format(*highest_pagerank_papers, highest_pagerank))\n",
    "print('{} are the papers with the lowest pagerank of: {:.6f}'.format(*lowest_pagerank_papers, lowest_pagerank))"
   ]
  },
  {
   "cell_type": "markdown",
   "metadata": {},
   "source": [
    "### Task 3\n",
    "\n",
    "Why do the two papers above have such different PageRank values? Write code below to investigate and show the cause of this, and then explain the cause of this difference based on the results generated by your code."
   ]
  },
  {
   "cell_type": "code",
   "execution_count": 30,
   "metadata": {},
   "outputs": [
    {
     "name": "stdout",
     "output_type": "stream",
     "text": [
      "0.000026\n"
     ]
    }
   ],
   "source": [
    "highest_pagerank_avg = sum([ pageranks[node] for node, edges in G.in_edges(1936991) ]) / len(G.in_edges(1936991))\n",
    "lowest_pagerank_avg = sum([ pageranks[node] for node, edges in G.in_edges(26718720) ]) / len(G.in_edges(26718720))\n",
    "print('{:.6f}'.format(highest_pagerank_avg-lowest_pagerank_avg))"
   ]
  },
  {
   "cell_type": "markdown",
   "metadata": {
    "collapsed": true
   },
   "source": [
    "**Answer:** The difference in pagerank results in our example comes from the contrast in values of pageranks of the nodes that have edges pointing towards a certain node in our directed graph. Based on my calculations, the paper with the highest pagerank has, on average, papers with higher pagerank that are pointing towards it as compared to the paper wit the lowest pagerank which has, on average, papers with lower pagerank pointing towards it."
   ]
  },
  {
   "cell_type": "markdown",
   "metadata": {},
   "source": [
    "### Task 4\n",
    "\n",
    "Copy the scoring function `score_ntn_nnn` from Task 4 of assignment 3. Rename it to `score_ntn_nnn_pagerank` and change its code to incorporate a paper's PageRank score in it's final score, in addition to tf-idf. In other words, the new function should accept a `list` of query tokens and a document ID, and should return a single `float` value that is calculated based on both scores (PageRank and tf-idf). Note that a `tf-idf` function is already provided above. Explain your decision on how to combine the two scores."
   ]
  },
  {
   "cell_type": "code",
   "execution_count": 31,
   "metadata": {},
   "outputs": [],
   "source": [
    "import math\n",
    "def score_ntn_nnn_pagerank(query_words, doc_id):\n",
    "    tf_score = 0.00\n",
    "    pagerank_score = pageranks[doc_id]\n",
    "    \n",
    "    for word in query_words:\n",
    "        tf_score += tfidf(word, doc_id)\n",
    "    \n",
    "    \n",
    "    return math.sqrt(tf_score * pagerank_score)"
   ]
  },
  {
   "cell_type": "markdown",
   "metadata": {
    "collapsed": true
   },
   "source": [
    "**Answer:** The use of geometric mean is appropriate in this situation given that we may be averaging across numbers on completely different scales. Using arithmetic mean, one of the variables could potentially be overshadowed by the other if the magnitudes of their absolute values differ a lot. Geometric mean attempts to mitigate this issue by normalizing our values onto the same scale."
   ]
  },
  {
   "cell_type": "markdown",
   "metadata": {},
   "source": [
    "### Task 5\n",
    "\n",
    "Copy the query function `query_ntn_nnn` from Task 4 of assignment 3 (also copy `or_merge`). Rename it to `query_ntn_nnn_pagerank` and change the code to use our new scoring function `score_ntn_nnn_pagerank` from task 4 above. Demonstrate these functions with an example query that returns paper 19741609 as the top result."
   ]
  },
  {
   "cell_type": "code",
   "execution_count": 32,
   "metadata": {},
   "outputs": [
    {
     "data": {
      "text/html": [
       "<strong><a href=http://dx.doi.org/10.1038/nature08358>Genome sequence and analysis of the Irish potato famine pathogen Phytophthora infestans.</a></strong><br>2009. Haas BJ, Kamoun S, Zody MC, Jiang RH, Handsaker RE, Cano LM, Grabherr M, Kodira CD, Raffaele S, Torto-Alalibo T, Bozkurt TO, Ah-Fong AM, Alvarado L, Anderson VL, Armstrong MR, Avrova A, Baxter L, Beynon J, Boevink PC, Bollmann SR, ...<br>[ID: 19741609]<br>Matching score: 0.17237089733354072"
      ],
      "text/plain": [
       "<IPython.core.display.HTML object>"
      ]
     },
     "metadata": {},
     "output_type": "display_data"
    },
    {
     "data": {
      "text/html": [
       "<strong><a href=http://dx.doi.org/10.1038/nature01554>The genome sequence of the filamentous fungus Neurospora crassa.</a></strong><br>2003. Galagan JE, Calvo SE, Borkovich KA, Selker EU, Read ND, Jaffe D, FitzHugh W, Ma LJ, Smirnov S, Purcell S, Rehman B, Elkins T, Engels R, Wang S, Nielsen CB, Butler J, Endrizzi M, Qui D, Ianakiev P, Bell-Pedersen D, ...<br>[ID: 12712197]<br>Matching score: 0.09060573838613958"
      ],
      "text/plain": [
       "<IPython.core.display.HTML object>"
      ]
     },
     "metadata": {},
     "output_type": "display_data"
    },
    {
     "data": {
      "text/html": [
       "<strong><a href=http://dx.doi.org/10.1073/pnas.88.16.7160>A constant rate of spontaneous mutation in DNA-based microbes.</a></strong><br>1991. Drake JW<br>[ID: 1831267]<br>Matching score: 0.0770604874942258"
      ],
      "text/plain": [
       "<IPython.core.display.HTML object>"
      ]
     },
     "metadata": {},
     "output_type": "display_data"
    },
    {
     "data": {
      "text/html": [
       "<strong><a href=http://dx.doi.org/10.1038/nature03449>The genome sequence of the rice blast fungus Magnaporthe grisea.</a></strong><br>2005. Dean RA, Talbot NJ, Ebbole DJ, Farman ML, Mitchell TK, Orbach MJ, Thon M, Kulkarni R, Xu JR, Pan H, Read ND, Lee YH, Carbone I, Brown D, Oh YY, Donofrio N, Jeong JS, Soanes DM, Djonovic S, Kolomiets E, ...<br>[ID: 15846337]<br>Matching score: 0.06992570591519832"
      ],
      "text/plain": [
       "<IPython.core.display.HTML object>"
      ]
     },
     "metadata": {},
     "output_type": "display_data"
    },
    {
     "data": {
      "text/html": [
       "<strong><a href=http://dx.doi.org/10.1002/yea.320101310>New heterologous modules for classical or PCR-based gene disruptions in Saccharomyces cerevisiae.</a></strong><br>1994. Wach A, Brachat A, Pöhlmann R, Philippsen P<br>[ID: 7747518]<br>Matching score: 0.06793686768297096"
      ],
      "text/plain": [
       "<IPython.core.display.HTML object>"
      ]
     },
     "metadata": {},
     "output_type": "display_data"
    },
    {
     "data": {
      "text/html": [
       "<strong><a href=http://dx.doi.org/10.1038/nature04332>Genomic sequence of the pathogenic and allergenic filamentous fungus Aspergillus fumigatus.</a></strong><br>2005. Nierman WC, Pain A, Anderson MJ, Wortman JR, Kim HS, Arroyo J, Berriman M, Abe K, Archer DB, Bermejo C, Bennett J, Bowyer P, Chen D, Collins M, Coulsen R, Davies R, Dyer PS, Farman M, Fedorova N, Fedorova N, ...<br>[ID: 16372009]<br>Matching score: 0.0614302055675682"
      ],
      "text/plain": [
       "<IPython.core.display.HTML object>"
      ]
     },
     "metadata": {},
     "output_type": "display_data"
    },
    {
     "data": {
      "text/html": [
       "<strong>Magnaporthe grisea genes for pathogenicity and virulence identified through a series of backcrosses.</strong><br>1991. Valent B, Farrall L, Chumley FG<br>[ID: 2016048]<br>Matching score: 0.05574596601227878"
      ],
      "text/plain": [
       "<IPython.core.display.HTML object>"
      ]
     },
     "metadata": {},
     "output_type": "display_data"
    },
    {
     "data": {
      "text/html": [
       "<strong><a href=http://dx.doi.org/10.1073/pnas.91.24.11591>Panglobal distribution of a single clonal lineage of the Irish potato famine fungus.</a></strong><br>1994. Goodwin SB, Cohen BA, Fry WE<br>[ID: 7972108]<br>Matching score: 0.05535399006714797"
      ],
      "text/plain": [
       "<IPython.core.display.HTML object>"
      ]
     },
     "metadata": {},
     "output_type": "display_data"
    },
    {
     "data": {
      "text/html": [
       "<strong><a href=http://dx.doi.org/10.1038/nbt1403>Genome sequencing and analysis of the biomass-degrading fungus Trichoderma reesei (syn. Hypocrea jecorina).</a></strong><br>2008. Martinez D, Berka RM, Henrissat B, Saloheimo M, Arvas M, Baker SE, Chapman J, Chertkov O, Coutinho PM, Cullen D, Danchin EG, Grigoriev IV, Harris P, Jackson M, Kubicek CP, Han CS, Ho I, Larrondo LF, de Leon AL, Magnuson JK, ...<br>[ID: 18454138]<br>Matching score: 0.052836036906331055"
      ],
      "text/plain": [
       "<IPython.core.display.HTML object>"
      ]
     },
     "metadata": {},
     "output_type": "display_data"
    },
    {
     "data": {
      "text/html": [
       "<strong><a href=http://dx.doi.org/10.1128/mmbr.68.1.1-108.2004>Lessons from the genome sequence of Neurospora crassa: tracing the path from genomic blueprint to multicellular organism.</a></strong><br>2004. Borkovich KA, Alex LA, Yarden O, Freitag M, Turner GE, Read ND, Seiler S, Bell-Pedersen D, Paietta J, Plesofsky N, Plamann M, Goodrich-Tanrikulu M, Schulte U, Mannhaupt G, Nargang FE, Radford A, Selitrennikoff C, Galagan JE, Dunlap JC, Loros JJ, ...<br>[ID: 15007097]<br>Matching score: 0.048501844505591786"
      ],
      "text/plain": [
       "<IPython.core.display.HTML object>"
      ]
     },
     "metadata": {},
     "output_type": "display_data"
    }
   ],
   "source": [
    "# Helper functions\n",
    "def merge_posting_lists(origin_list, output_list, merging_func, index=1):\n",
    "    # Base case\n",
    "    if index == len(origin_list):\n",
    "        return output_list\n",
    "    # Recursive case\n",
    "    else:\n",
    "        return merge_posting_lists(origin_list, merging_func(output_list, origin_list[index]), merging_func, index + 1)\n",
    "\n",
    "def query_format_check(query):\n",
    "    assert isinstance(query, str), 'Query has to be a string'\n",
    "\n",
    "def query_to_postings_id_and_terms(query, smart=False):\n",
    "    query_format_check(query)\n",
    "    terms = smarter_tokenize_and_preprocess(query) if smart else preprocess(tokenize(query))\n",
    "    postings_id = [smarter_index[term] for term in terms] if smart else [inverted_index[term] for term in terms]\n",
    "    return postings_id, terms\n",
    "\n",
    "def or_merge(sorted_list1, sorted_list2):\n",
    "    merged_list = []\n",
    "    # first we make copies of the lists, so we don't modify the existing lists in the index:\n",
    "    list1 = list(sorted_list1)\n",
    "    list2 = list(sorted_list2)\n",
    "    i, j = 0, 0\n",
    "    \n",
    "    while i < len(list1) and j < len(list2):\n",
    "        # Skip duplicates\n",
    "        if list1[i] == list2[j]:\n",
    "            i += 1\n",
    "            continue\n",
    "            \n",
    "        if list1[i] < list2[j]:\n",
    "            merged_list.append(list1[i])\n",
    "            i += 1\n",
    "        else:\n",
    "            merged_list.append(list2[j])\n",
    "            j += 1\n",
    "    \n",
    "    # Append the list that has not reached the end in the while loop\n",
    "    merged_list.extend(list1[i:]) if j == len(list2) else merged_list.extend(list2[j:])\n",
    "    return merged_list\n",
    "\n",
    "def query_ntn_nnn_pagerank(query_string):\n",
    "    doc_id_score_dict  = defaultdict(float)\n",
    "    postings_id, terms = query_to_postings_id_and_terms(query_string)\n",
    "    matching_docs_id = merge_posting_lists(postings_id, postings_id[0], merging_func=or_merge)\n",
    "    \n",
    "    for doc_id in matching_docs_id:\n",
    "        doc_id_score_dict[doc_id] = score_ntn_nnn_pagerank(terms, doc_id)\n",
    "    \n",
    "    doc_id_score_list = sorted(doc_id_score_dict.items(), key=lambda item: item[1], reverse=True)\n",
    "    return doc_id_score_list[:10]\n",
    "\n",
    "# Example query that returns 19741609 as the top result\n",
    "for doc_id, doc_score in query_ntn_nnn_pagerank(\"Genome sequence and analysis of the Irish potato famine pathogen Phytophthora infestans\"):\n",
    "    score_text = 'Matching score: ' + str(doc_score)\n",
    "    display_summary(doc_id, extra_text=score_text)"
   ]
  },
  {
   "cell_type": "markdown",
   "metadata": {},
   "source": [
    "# Submission"
   ]
  },
  {
   "cell_type": "markdown",
   "metadata": {},
   "source": [
    "Submit the answers to the assignment via Canvas as a modified version of this Notebook file (file with `.ipynb` extension) that includes your code and your answers.\n",
    "\n",
    "Before submitting, restart the kernel and re-run the complete code (**Kernel > Restart & Run All**), and then check whether your assignment code still works as expected.\n",
    "\n",
    "Don't forget to add your name, and remember that the assignments have to be done **individually**, and that code sharing or copying are **strictly forbidden** and will be punished."
   ]
  }
 ],
 "metadata": {
  "kernelspec": {
   "display_name": "Python 3",
   "language": "python",
   "name": "python3"
  },
  "language_info": {
   "codemirror_mode": {
    "name": "ipython",
    "version": 3
   },
   "file_extension": ".py",
   "mimetype": "text/x-python",
   "name": "python",
   "nbconvert_exporter": "python",
   "pygments_lexer": "ipython3",
   "version": "3.8.6"
  }
 },
 "nbformat": 4,
 "nbformat_minor": 1
}
