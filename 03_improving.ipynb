{
 "cells": [
  {
   "cell_type": "markdown",
   "metadata": {},
   "source": [
    "# Assignment 3: Improving the Index"
   ]
  },
  {
   "cell_type": "markdown",
   "metadata": {},
   "source": [
    "In this assignment, we will improve the search index and query functions from the previous assignment."
   ]
  },
  {
   "cell_type": "markdown",
   "metadata": {},
   "source": [
    "## Loading the Data and Defining Auxiliary Functions"
   ]
  },
  {
   "cell_type": "markdown",
   "metadata": {},
   "source": [
    "This section is copied from the previous notebook."
   ]
  },
  {
   "cell_type": "code",
   "execution_count": 1,
   "metadata": {},
   "outputs": [],
   "source": [
    "import pickle, bz2, re\n",
    "from collections import namedtuple, defaultdict, Counter\n",
    "from IPython.display import display, HTML\n",
    "from math import log10, sqrt\n",
    "\n",
    "Summaries_file = 'data/fungus_Summaries.pkl.bz2'\n",
    "Abstracts_file = 'data/fungus_Abstracts.pkl.bz2'\n",
    "\n",
    "Summaries = pickle.load( bz2.BZ2File( Summaries_file, 'rb' ) )\n",
    "Abstracts = pickle.load( bz2.BZ2File( Abstracts_file, 'rb' ) )\n",
    "\n",
    "paper = namedtuple( 'paper', ['title', 'authors', 'year', 'doi'] )\n",
    "for (id, paper_info) in Summaries.items():\n",
    "    Summaries[id] = paper( *paper_info )"
   ]
  },
  {
   "cell_type": "code",
   "execution_count": 2,
   "metadata": {},
   "outputs": [],
   "source": [
    "def tokenize(text):\n",
    "    \"\"\"\n",
    "    Function that tokenizes a string in a rather naive way. Can be extended later.\n",
    "    \"\"\"\n",
    "    return text.split(' ')\n",
    "\n",
    "def preprocess(tokens):\n",
    "    \"\"\"\n",
    "    Perform linguistic preprocessing on a list of tokens. Can be extended later.\n",
    "    \"\"\"\n",
    "    result = []\n",
    "    for token in tokens:\n",
    "        result.append(token.lower())\n",
    "    return result"
   ]
  },
  {
   "cell_type": "code",
   "execution_count": 3,
   "metadata": {},
   "outputs": [],
   "source": [
    "def display_summary( id, show_abstract=False, show_id=True, extra_text='' ):\n",
    "    \"\"\"\n",
    "    Function for printing a paper's summary through IPython's Rich Display System.\n",
    "    Trims long author lists, and adds a link to the paper's DOI (when available).\n",
    "    \"\"\"\n",
    "    s = Summaries[id]\n",
    "    lines = []\n",
    "    title = s.title\n",
    "    if s.doi != '':\n",
    "        title = '<a href=http://dx.doi.org/{:s}>{:s}</a>'.format(s.doi, title)\n",
    "    title = '<strong>' + title + '</strong>'\n",
    "    lines.append(title)\n",
    "    authors = ', '.join( s.authors[:20] ) + ('' if len(s.authors) <= 20 else ', ...')\n",
    "    lines.append(str(s.year) + '. ' + authors)\n",
    "    if (show_abstract):\n",
    "        lines.append('<small><strong>Abstract:</strong> <em>{:s}</em></small>'.format(Abstracts[id]))\n",
    "    if (show_id):\n",
    "        lines.append('[ID: {:d}]'.format(id))\n",
    "    if (extra_text != ''):\n",
    "         lines.append(extra_text)\n",
    "    display( HTML('<br>'.join(lines)) )"
   ]
  },
  {
   "cell_type": "code",
   "execution_count": 4,
   "metadata": {},
   "outputs": [],
   "source": [
    "inverted_index = defaultdict(list)\n",
    "\n",
    "for id in sorted(Summaries.keys()):\n",
    "    term_set = set(preprocess(tokenize(Summaries[id].title)))\n",
    "    if id in Abstracts:\n",
    "        term_set.update(preprocess(tokenize(Abstracts[id])))\n",
    "    for term in term_set:\n",
    "        inverted_index[term].append(id)"
   ]
  },
  {
   "cell_type": "markdown",
   "metadata": {},
   "source": [
    "## Stemming"
   ]
  },
  {
   "cell_type": "markdown",
   "metadata": {},
   "source": [
    "As we could see from the results of the last assignment, our simple index doesn't handle punctuation and the difference between singular and plural versions of the same word very well. We won't go much into the details of tokenization and linguistic analysis here, because we also want to focus on scoring and ranking below. Therefore, we are using an existing library for tokenizatoin and stemming, namely the NLTK package. The following line will install NLTK if necessary (or you have to follow [these instructions](http://www.nltk.org/install.html) if that doesn't work):"
   ]
  },
  {
   "cell_type": "code",
   "execution_count": 5,
   "metadata": {},
   "outputs": [
    {
     "name": "stdout",
     "output_type": "stream",
     "text": [
      "Requirement already satisfied: nltk in c:\\users\\bunio\\appdata\\roaming\\python\\python38\\site-packages (3.5)\n",
      "Requirement already satisfied: click in c:\\users\\bunio\\appdata\\local\\programs\\python\\python38\\lib\\site-packages (from nltk) (7.1.2)\n",
      "Requirement already satisfied: joblib in c:\\users\\bunio\\appdata\\local\\programs\\python\\python38\\lib\\site-packages (from nltk) (0.17.0)\n",
      "Requirement already satisfied: regex in c:\\users\\bunio\\appdata\\roaming\\python\\python38\\site-packages (from nltk) (2020.10.28)\n",
      "Requirement already satisfied: tqdm in c:\\users\\bunio\\appdata\\roaming\\python\\python38\\site-packages (from nltk) (4.51.0)\n"
     ]
    },
    {
     "name": "stderr",
     "output_type": "stream",
     "text": [
      "WARNING: You are using pip version 20.2.3; however, version 20.2.4 is available.\n",
      "You should consider upgrading via the 'c:\\users\\bunio\\appdata\\local\\programs\\python\\python38\\python.exe -m pip install --upgrade pip' command.\n"
     ]
    }
   ],
   "source": [
    "! pip install --user nltk"
   ]
  },
  {
   "cell_type": "code",
   "execution_count": 6,
   "metadata": {},
   "outputs": [
    {
     "name": "stdout",
     "output_type": "stream",
     "text": [
      "INPUT TEXT:\n",
      "  Good muffins cost $3.88\n",
      "in New York.  Please buy me two of them.\n",
      "\n",
      "Thanks.\n",
      "TOKENIZE:  ['Good', 'muffins', 'cost', '$3.88\\nin', 'New', 'York.', '', 'Please', 'buy', 'me', 'two', 'of', 'them.\\n\\nThanks.']\n",
      "WORD TOKENIZE:  ['Good', 'muffins', 'cost', '$', '3.88', 'in', 'New', 'York', '.', 'Please', 'buy', 'me', 'two', 'of', 'them', '.', 'Thanks', '.']\n"
     ]
    },
    {
     "name": "stderr",
     "output_type": "stream",
     "text": [
      "[nltk_data] Downloading package punkt to\n",
      "[nltk_data]     C:\\Users\\bunio\\AppData\\Roaming\\nltk_data...\n",
      "[nltk_data]   Package punkt is already up-to-date!\n"
     ]
    }
   ],
   "source": [
    "from nltk.tokenize import word_tokenize\n",
    "from nltk.stem.snowball import EnglishStemmer\n",
    "import nltk\n",
    "nltk.download('punkt')\n",
    "stemmer = EnglishStemmer()\n",
    "\n",
    "s = '''Good muffins cost $3.88\\nin New York.  Please buy me two of them.\\n\\nThanks.'''\n",
    "\n",
    "print('INPUT TEXT:\\n ', s)\n",
    "\n",
    "print('TOKENIZE: ', tokenize(s))\n",
    "print('WORD TOKENIZE: ', word_tokenize(s))"
   ]
  },
  {
   "cell_type": "code",
   "execution_count": 7,
   "metadata": {},
   "outputs": [
    {
     "name": "stdout",
     "output_type": "stream",
     "text": [
      "process\n"
     ]
    }
   ],
   "source": [
    "print(stemmer.stem(\"processes\"))"
   ]
  },
  {
   "cell_type": "markdown",
   "metadata": {},
   "source": [
    "## Ranking"
   ]
  },
  {
   "cell_type": "markdown",
   "metadata": {},
   "source": [
    "Another important method to improve our search results is to rank them, which can be done by calculating a score for each document based on the matching terms from the query. One such scoring method is *tf-idf*, which comes with several variants, as explained in the lecture slides.\n",
    "\n",
    "In order to quickly calculate the scores for a term/document combination, we'll need quick access to a couple of things:\n",
    "\n",
    "- tf(t,d): How often does a term occur in a document\n",
    "- df(t): In how many documents does a term occur\n",
    "- num_documents: The number of documents in our index"
   ]
  },
  {
   "cell_type": "code",
   "execution_count": 8,
   "metadata": {},
   "outputs": [],
   "source": [
    "tf_matrix = defaultdict(Counter)\n",
    "\n",
    "for doc_id in Summaries.keys():\n",
    "    tokens = preprocess(tokenize(Summaries[doc_id].title))\n",
    "    if (doc_id in Abstracts):\n",
    "        tokens.extend(preprocess(tokenize(Abstracts[doc_id])))\n",
    "    tf_matrix[doc_id] = Counter(tokens)\n",
    "\n",
    "def tf(t,d):\n",
    "    return float(tf_matrix[d][t])\n",
    "\n",
    "def df(t):\n",
    "    return float(len(inverted_index[t]))\n",
    "\n",
    "num_documents = float(len(Summaries))"
   ]
  },
  {
   "cell_type": "markdown",
   "metadata": {},
   "source": [
    "Let's test these functions with some examples:"
   ]
  },
  {
   "cell_type": "code",
   "execution_count": 9,
   "metadata": {},
   "outputs": [
    {
     "name": "stdout",
     "output_type": "stream",
     "text": [
      "3.0\n",
      "5.0\n",
      "54751.0\n"
     ]
    }
   ],
   "source": [
    "print(tf('amsterdam', 22679594))\n",
    "print(df('amsterdam'))\n",
    "print(num_documents)"
   ]
  },
  {
   "cell_type": "markdown",
   "metadata": {},
   "source": [
    "With these helper functions, we can now easily calculate the _tf-idf_ weights of a term in a document by implementing the weighting formula from the slides, which you will do in the assignments below."
   ]
  },
  {
   "cell_type": "markdown",
   "metadata": {},
   "source": [
    "----------"
   ]
  },
  {
   "cell_type": "markdown",
   "metadata": {},
   "source": [
    "# Tasks"
   ]
  },
  {
   "cell_type": "markdown",
   "metadata": {},
   "source": [
    "**Your name:** Mateusz Belka"
   ]
  },
  {
   "cell_type": "markdown",
   "metadata": {},
   "source": [
    "### Task 1\n",
    "\n",
    "Implement in the code block below the `smarter_tokenize_and_preprocess` function using NLTK's functions for tokenization and stemming. "
   ]
  },
  {
   "cell_type": "code",
   "execution_count": 10,
   "metadata": {},
   "outputs": [
    {
     "name": "stdout",
     "output_type": "stream",
     "text": [
      "['he', 'buy', 'mani', 'book', ',', 'some', 'about', 'i.r.', ',', 'for', 'less', 'than', '$', '1.50', '!']\n"
     ]
    }
   ],
   "source": [
    "# Smarter linguistic processing\n",
    "\n",
    "def smarter_tokenize_and_preprocess(text):\n",
    "    tokens = word_tokenize(text)\n",
    "    return [stemmer.stem(token.lower()) for token in tokens]\n",
    "\n",
    "# To test it:\n",
    "print(smarter_tokenize_and_preprocess(\"He buys many books, some about I.R., for less than $1.50!\"))"
   ]
  },
  {
   "cell_type": "markdown",
   "metadata": {},
   "source": [
    "Now we can make a smarter index based on this function. For practical purposes, the code below generates the smarter index on a subset of the data, as generating an index with stemming on the entire set would take too much time. (You don't need to change or add anything in the code block below. Just leave it as it is.)"
   ]
  },
  {
   "cell_type": "code",
   "execution_count": 11,
   "metadata": {},
   "outputs": [],
   "source": [
    "# Below, we create our smarter index (based on a subset of the documents for demonstration purposes)\n",
    "smarter_index = defaultdict(list)\n",
    "\n",
    "# Here we define the subset (somewhat arbitrary):\n",
    "subset_of_ids = list(key for key in Summaries.keys() if 28000000 <= key < 29000000)\n",
    "\n",
    "# Building our smarter index:\n",
    "for id in sorted(subset_of_ids):\n",
    "    term_set = set(smarter_tokenize_and_preprocess(Summaries[id].title))\n",
    "    if id in Abstracts:\n",
    "        term_set.update(smarter_tokenize_and_preprocess(Abstracts[id]))\n",
    "    for term in term_set:\n",
    "        smarter_index[term].append(id)"
   ]
  },
  {
   "cell_type": "markdown",
   "metadata": {},
   "source": [
    "Now implement the `smarter_and_query` function, based on the two functions `smarter_tokenize` and `smarter_preprocess` you defined above and accessing our new index `smarter_index`. You can start from copying the code for `and_query` from the last assignment. For that to work, you'll also have to copy the code for the `and_merge` function from the last assignment."
   ]
  },
  {
   "cell_type": "code",
   "execution_count": 12,
   "metadata": {},
   "outputs": [],
   "source": [
    "# Helper functions\n",
    "def merge_posting_lists(origin_list, output_list, merging_func, index=1):\n",
    "    # Base case\n",
    "    if index == len(origin_list):\n",
    "        return output_list\n",
    "    # Recursive case\n",
    "    else:\n",
    "        return merge_posting_lists(origin_list, merging_func(output_list, origin_list[index]), merging_func, index + 1)\n",
    "\n",
    "def query_format_check(query):\n",
    "    assert isinstance(query, str), 'Query has to be a string'\n",
    "\n",
    "def query_to_postings_id_and_terms(query, smart=False):\n",
    "    query_format_check(query)\n",
    "    terms = smarter_tokenize_and_preprocess(query) if smart else preprocess(tokenize(query))\n",
    "    postings_id = [smarter_index[term] for term in terms] if smart else [inverted_index[term] for term in terms]\n",
    "    return postings_id, terms"
   ]
  },
  {
   "cell_type": "code",
   "execution_count": 13,
   "metadata": {},
   "outputs": [],
   "source": [
    "def and_merge(sorted_list1, sorted_list2):\n",
    "    merged_list = []\n",
    "    # first we make copies of the lists, so we don't modify the existing lists in the index:\n",
    "    list1 = list(sorted_list1)\n",
    "    list2 = list(sorted_list2)\n",
    "    i, j = 0, 0\n",
    "    \n",
    "    while i < len(list1) and j < len(list2):\n",
    "        if list1[i] == list2[j] and list1[i] not in merged_list:\n",
    "            merged_list.append(list1[i])\n",
    "        \n",
    "        if list1[i] < list2[j]:\n",
    "            i += 1\n",
    "        else:\n",
    "            j += 1\n",
    "    \n",
    "    return merged_list"
   ]
  },
  {
   "cell_type": "code",
   "execution_count": 14,
   "metadata": {},
   "outputs": [
    {
     "data": {
      "text/html": [
       "<strong><a href=http://dx.doi.org/10.1016/j.marpolbul.2017.06.058>Another possible risk for the Mediterranean Sea? Aspergillus sydowii discovered in the Port of Genoa (Ligurian Sea, Italy).</a></strong><br>2017. Greco G, Capello M, Cecchi G, Cutroneo L, Di Piazza S, Zotti M<br>[ID: 28651864]"
      ],
      "text/plain": [
       "<IPython.core.display.HTML object>"
      ]
     },
     "metadata": {},
     "output_type": "display_data"
    }
   ],
   "source": [
    "# Smarter and_query based on the smarter tokenize and preprocess functions\n",
    "def smarter_and_query(query):\n",
    "    postings_id = query_to_postings_id_and_terms(query, smart=True)[0]\n",
    "    return merge_posting_lists(postings_id, postings_id[0], merging_func=and_merge)\n",
    "\n",
    "# Testing:\n",
    "for document_id in smarter_and_query('fungal aspergillus fungus water'):\n",
    "    display_summary(document_id)"
   ]
  },
  {
   "cell_type": "markdown",
   "metadata": {},
   "source": [
    "### Task 2\n",
    "\n",
    "Run the query \"infection range expansions\" with the new `smarter_and_query` function from task 1. Does it return paper *28425998*? Explain what our new smarter function specifically contributes to the result (as compared to our previous naive implementations for tokenization and preprocessing)?"
   ]
  },
  {
   "cell_type": "code",
   "execution_count": 15,
   "metadata": {},
   "outputs": [
    {
     "name": "stdout",
     "output_type": "stream",
     "text": [
      "True\n"
     ]
    }
   ],
   "source": [
    "print(28425998 in smarter_and_query('infection range expansions'))"
   ]
  },
  {
   "cell_type": "markdown",
   "metadata": {},
   "source": [
    "**Answer:** Smarter version of tokenization includes more sophisticated logic for separation of sequences of characters such that the end results leads to more adequate semantic units for processing. One of those improvements is separating words not only by whitespaces but also by stop words. Smarter version of preprocessing includes stemming which thanks to its reduction of words to their root/base word is able to draw connections between singular and plural version of a word, as well as, different tenses of a specific word. The smartness of our stemming algorithm depends on how accurate it is in classifying together groups of original tokens. There is a risk of over or under-stemming which may reduce the accuracy of our query."
   ]
  },
  {
   "cell_type": "markdown",
   "metadata": {},
   "source": [
    "### Task 3\n",
    "\n",
    "Now we move to a different subject and use our old index again. That is, we **don't** use the smarter functions defined above for tasks 3 to 5!\n",
    "\n",
    "Create a function `tfidf(t,d)` that returns the tf-idf score of term `t` in document `d` by using `tf(t,d)`, `df(t)` and `num_documents` as defined above. To do this, first implement a function `idf(t)` to calculate the inverse document frequency, and then use this function to calculate the full tf-idf. Use the _add-one-smoothing_ version of idf, so we don't run into problems with terms that don't appear in the collection at all. The relevant formulas can be found on the lecture slides. Use tf-idf with plain (non-logarithmic) term frequency, as applied by scoring variant `ntn`. Test your function with the examples shown below. You can use the `log10(n)` function to calculate the base 10 logarithm.\n",
    "\n",
    "Again, use our old (non-smart) index for this task and the tasks below, and **not** the functions defined in tasks 1 and 2."
   ]
  },
  {
   "cell_type": "code",
   "execution_count": 21,
   "metadata": {},
   "outputs": [
    {
     "name": "stdout",
     "output_type": "stream",
     "text": [
      "2.2896936679559263\n",
      "4.349837804933191\n",
      "1.314814038572213\n"
     ]
    }
   ],
   "source": [
    "def idf(t):\n",
    "    n = num_documents\n",
    "    return log10((n+1) / (df(t)+1))\n",
    "\n",
    "def tfidf(t,d):\n",
    "    return tf(t,d) * idf(t)\n",
    "\n",
    "# Testing:\n",
    "print(tfidf('europe', 28425998))\n",
    "print(tfidf('chytrid', 28425998))\n",
    "print(tfidf('this', 28425998))"
   ]
  },
  {
   "cell_type": "markdown",
   "metadata": {},
   "source": [
    "### Task 4\n",
    "\n",
    "Create a function `query_ntn_nnn(query_string)`, which accepts as input a single query string of one or more words, and returns or prints a list of (up to) 10 best matching documents, along with their score. Use _tf-idf_ to calculate document scores based on the query, applying variant `ntn.nnn`, as above (see the formula for the `ntn.nnn` version of scoring on the lecture slides). Use an auxiliary function `score_ntn_nnn` to calculate the score. The results should be shown in descending order by score.\n",
    "\n",
    "You can start by copying your functions `or_merge` and `or_query` from assignment 2, then expand that to rank the results, making use of the `tfidf(t,d)` function you created above.\n",
    "\n",
    "Demonstrate your function by giving it the exemplary query string \"evolution of resistance in the context of rice\"."
   ]
  },
  {
   "cell_type": "code",
   "execution_count": 17,
   "metadata": {},
   "outputs": [],
   "source": [
    "def or_merge(sorted_list1, sorted_list2):\n",
    "    merged_list = []\n",
    "    # first we make copies of the lists, so we don't modify the existing lists in the index:\n",
    "    list1 = list(sorted_list1)\n",
    "    list2 = list(sorted_list2)\n",
    "    i, j = 0, 0\n",
    "    \n",
    "    while i < len(list1) and j < len(list2):\n",
    "        # Skip duplicates\n",
    "        if list1[i] == list2[j]:\n",
    "            i += 1\n",
    "            continue\n",
    "            \n",
    "        if list1[i] < list2[j]:\n",
    "            merged_list.append(list1[i])\n",
    "            i += 1\n",
    "        else:\n",
    "            merged_list.append(list2[j])\n",
    "            j += 1\n",
    "    \n",
    "    # Append the list that has not reached the end in the while loop\n",
    "    merged_list.extend(list1[i:]) if j == len(list2) else merged_list.extend(list2[j:])\n",
    "    return merged_list"
   ]
  },
  {
   "cell_type": "code",
   "execution_count": 18,
   "metadata": {
    "scrolled": true
   },
   "outputs": [
    {
     "data": {
      "text/html": [
       "<strong><a href=http://dx.doi.org/10.1023/a:1010989431375>Hair and scalp mycobiota in school children in Nablus area.</a></strong><br>2001. Ali-Shtayeh MS, Salameh AA, Abu-Ghdeib SI, Jamous RM<br>[ID: 11469760]<br>Matching score: 31.58655725479826"
      ],
      "text/plain": [
       "<IPython.core.display.HTML object>"
      ]
     },
     "metadata": {},
     "output_type": "display_data"
    },
    {
     "data": {
      "text/html": [
       "<strong>[Allergy skin-prick tests and standard inhalation of allergens in children up to 3 years of age].</strong><br>1999. Saracević E, Sarajlić L<br>[ID: 10758752]<br>Matching score: 29.661269589237513"
      ],
      "text/plain": [
       "<IPython.core.display.HTML object>"
      ]
     },
     "metadata": {},
     "output_type": "display_data"
    },
    {
     "data": {
      "text/html": [
       "<strong><a href=http://dx.doi.org/10.1017/S0950268819001845>Comparison of epidemiological, clinical and microbiological characteristics of bloodstream infection in children with solid tumours and haematological malignancies.</a></strong><br>2019. Garrido MM, Garrido RQ, Cunha TN, Ehrlich S, Martins IS<br>[ID: 31699182]<br>Matching score: 22.7101160252502"
      ],
      "text/plain": [
       "<IPython.core.display.HTML object>"
      ]
     },
     "metadata": {},
     "output_type": "display_data"
    },
    {
     "data": {
      "text/html": [
       "<strong><a href=http://dx.doi.org/10.1016/j.wasman.2019.05.046>Multifunctional food waste fertilizer having the capability of Fusarium-growth inhibition and phosphate solubility: A new horizon of food waste recycle using microorganisms.</a></strong><br>2019. Mahmood A, Iguchi R, Kataoka R<br>[ID: 31279398]<br>Matching score: 19.642509917947123"
      ],
      "text/plain": [
       "<IPython.core.display.HTML object>"
      ]
     },
     "metadata": {},
     "output_type": "display_data"
    },
    {
     "data": {
      "text/html": [
       "<strong><a href=http://dx.doi.org/10.1067/mda.2000.da0470005>The importance of allergens in the development of asthma and the persistence of symptoms.</a></strong><br>2001. Nelson HS<br>[ID: 11182682]<br>Matching score: 17.757664341770237"
      ],
      "text/plain": [
       "<IPython.core.display.HTML object>"
      ]
     },
     "metadata": {},
     "output_type": "display_data"
    },
    {
     "data": {
      "text/html": [
       "<strong><a href=http://dx.doi.org/10.1034/j.1399-3046.1999.00065.x>Utility of liver biopsy culture in pediatric liver transplant recipients.</a></strong><br>1999. Cohen MS, Wise BV, Stamato LH, Colombani PM, Schwarz KB<br>[ID: 10562978]<br>Matching score: 17.034722521060743"
      ],
      "text/plain": [
       "<IPython.core.display.HTML object>"
      ]
     },
     "metadata": {},
     "output_type": "display_data"
    },
    {
     "data": {
      "text/html": [
       "<strong>Peritonitis in children on chronic peritoneal dialysis: analysis at 10 years.</strong><br>1991. Neiberger R, Aboushaar MH, Tawan M, Fennell R, Iravani A, Richard G<br>[ID: 1680444]<br>Matching score: 16.595380637704984"
      ],
      "text/plain": [
       "<IPython.core.display.HTML object>"
      ]
     },
     "metadata": {},
     "output_type": "display_data"
    },
    {
     "data": {
      "text/html": [
       "<strong><a href=http://dx.doi.org/10.1142/S0192415X16500889>Traditional Chinese Medicine, Food Therapy, and Hypertension Control: A Narrative Review of Chinese Literature.</a></strong><br>2016. Zou P<br>[ID: 27852126]<br>Matching score: 16.222846568645704"
      ],
      "text/plain": [
       "<IPython.core.display.HTML object>"
      ]
     },
     "metadata": {},
     "output_type": "display_data"
    },
    {
     "data": {
      "text/html": [
       "<strong>Prevalence of Candida albicans in oral cavities and root canals of children.</strong><br>2002. Akdeniz BG, Koparal E, Sen BH, Ateş M, Denizci AA<br>[ID: 12613314]<br>Matching score: 15.101296171001913"
      ],
      "text/plain": [
       "<IPython.core.display.HTML object>"
      ]
     },
     "metadata": {},
     "output_type": "display_data"
    },
    {
     "data": {
      "text/html": [
       "<strong><a href=http://dx.doi.org/10.1067/mai.2000.106154>The importance of allergens in the development of asthma and the persistence of symptoms.</a></strong><br>2000. Nelson HS<br>[ID: 10856169]<br>Matching score: 14.983052181254784"
      ],
      "text/plain": [
       "<IPython.core.display.HTML object>"
      ]
     },
     "metadata": {},
     "output_type": "display_data"
    }
   ],
   "source": [
    "def score_ntn_nnn(query_words, doc_id):\n",
    "    score = 0\n",
    "    \n",
    "    for word in query_words:\n",
    "        score += tfidf(word, doc_id)\n",
    "    \n",
    "    return score\n",
    "\n",
    "def query_ntn_nnn(query_string):\n",
    "    doc_id_score_dict  = defaultdict(float)\n",
    "    postings_id, terms = query_to_postings_id_and_terms(query_string)\n",
    "    matching_docs_id = merge_posting_lists(postings_id, postings_id[0], merging_func=or_merge)\n",
    "    \n",
    "    for doc_id in matching_docs_id:\n",
    "        doc_id_score_dict[doc_id] = score_ntn_nnn(terms, doc_id)\n",
    "    \n",
    "    doc_id_score_list = sorted(doc_id_score_dict.items(), key=lambda item: item[1], reverse=True)\n",
    "    return doc_id_score_list[:10]\n",
    "\n",
    "\n",
    "# Example query: evolution of resistance in the context of rice\n",
    "for doc_id, doc_score in query_ntn_nnn(\"factors of food allergy for children\"):\n",
    "    score_text = 'Matching score: ' + str(doc_score)\n",
    "    display_summary(doc_id, extra_text=score_text)"
   ]
  },
  {
   "cell_type": "markdown",
   "metadata": {},
   "source": [
    "### Task 5\n",
    "\n",
    "In this last task, you should create a second version of the query function from Task 4, called `query_ntc_ntc`. This second version should use, as its name suggests, variant `ntc.ntc` instead of `ntn.nnn`, and therefore apply the cosine similarity measure, in addition to applying _tf-idf_. For this, consult the formula for variant `nnc.nnc` on the lecture slides and adopt it to include the _idf_ metric (that is, add the `t` element of `ntc`). (You can drop the square root of |q| in the formula, as indicated on the slides.)\n",
    "\n",
    "As a first step, we can calculate beforehand the length of all document vectors (because they don't depend on the query) for document vectors consisting of _tf-idf_ values. The code below does just that, assuming that you defined the function `tfidf(t,d)` above (don't change this code block, just run it):"
   ]
  },
  {
   "cell_type": "code",
   "execution_count": 19,
   "metadata": {},
   "outputs": [],
   "source": [
    "tfidf_length_values = defaultdict(int)\n",
    "\n",
    "for doc_id in Summaries.keys():\n",
    "    l = 0\n",
    "    for t in tf_matrix[doc_id].keys():\n",
    "        l += tfidf(t,doc_id) ** 2\n",
    "    tfidf_length_values[doc_id] = sqrt(l)\n",
    "\n",
    "def tfidf_length(d):\n",
    "    return tfidf_length_values[d]"
   ]
  },
  {
   "cell_type": "markdown",
   "metadata": {},
   "source": [
    "We can now get the length of a document vector by calling `tfidf_length(d)`.\n",
    "\n",
    "Based on this, you can now implement `query_ntc_ntc` in the code block below. You should again first define an auxiliary function, called `score_ntc_ntc`. You can start by copy-pasting the code from Task 4.\n",
    "\n",
    "To output the results, use the provided `display_summary` function to make the output a bit more like the results page of a search engine. Lastly, demonstrate your `query_ntc_ntc` function with the same example query as above: \"evolution of resistance in the context of rice\""
   ]
  },
  {
   "cell_type": "code",
   "execution_count": 24,
   "metadata": {},
   "outputs": [
    {
     "data": {
      "text/html": [
       "<strong><a href=http://dx.doi.org/10.1007/BF01963468>Host-parasite interaction in fungal infections.</a></strong><br>1989. Khardori N<br>[ID: 2497013]<br>Matching score: 3.0363641072278984"
      ],
      "text/plain": [
       "<IPython.core.display.HTML object>"
      ]
     },
     "metadata": {},
     "output_type": "display_data"
    },
    {
     "data": {
      "text/html": [
       "<strong>[Histochemical characteristics of experimental candidiasis with specific sensitization].</strong><br>1976. Khmel'nitskiĭ OK, Bakenova KZ<br>[ID: 799938]<br>Matching score: 2.9878281606922026"
      ],
      "text/plain": [
       "<IPython.core.display.HTML object>"
      ]
     },
     "metadata": {},
     "output_type": "display_data"
    },
    {
     "data": {
      "text/html": [
       "<strong><a href=http://dx.doi.org/10.1111/j.1567-1364.2005.00017.x>Molecular organization of the cell wall of Candida albicans and its relation to pathogenicity.</a></strong><br>2006. Ruiz-Herrera J, Elorza MV, Valentín E, Sentandreu R<br>[ID: 16423067]<br>Matching score: 2.8811160967495133"
      ],
      "text/plain": [
       "<IPython.core.display.HTML object>"
      ]
     },
     "metadata": {},
     "output_type": "display_data"
    },
    {
     "data": {
      "text/html": [
       "<strong><a href=http://dx.doi.org/10.1111/mpp.12240>The pep4 gene encoding proteinase A is involved in dimorphism and pathogenesis of Ustilago maydis.</a></strong><br>2015. Soberanes-Gutiérrez CV, Juárez-Montiel M, Olguín-Rodríguez O, Hernández-Rodríguez C, Ruiz-Herrera J, Villa-Tanaca L<br>[ID: 25597948]<br>Matching score: 2.8286841517779844"
      ],
      "text/plain": [
       "<IPython.core.display.HTML object>"
      ]
     },
     "metadata": {},
     "output_type": "display_data"
    },
    {
     "data": {
      "text/html": [
       "<strong>[An example of research on biological control: Entomophthora fungi pathogenic for aphids].</strong><br>1978. Latgé JP, Remaudière G, Papierok B<br>[ID: 570463]<br>Matching score: 2.8275106949542055"
      ],
      "text/plain": [
       "<IPython.core.display.HTML object>"
      ]
     },
     "metadata": {},
     "output_type": "display_data"
    },
    {
     "data": {
      "text/html": [
       "<strong><a href=http://dx.doi.org/10.17116/otorino20188306167>[Opportunistic mycoses of ENT organs. Part 1].</a></strong><br>2018. Bezshapochny SB, Zachepilo SV, Polyanskaya VP, Bobrova NA, Fedorchenko VI<br>[ID: 30721191]<br>Matching score: 2.811364404158777"
      ],
      "text/plain": [
       "<IPython.core.display.HTML object>"
      ]
     },
     "metadata": {},
     "output_type": "display_data"
    },
    {
     "data": {
      "text/html": [
       "<strong>[Influence of Ca2+ ions on metabolism of active oxygen species in combined cultures of wheat calluses with the fungus Tilletia caries].</strong><br>2010. Maksimov IV, Troshina NB, Surina OB, Cherepanova EA, Iarullina LG<br>[ID: 21061603]<br>Matching score: 2.709472683313789"
      ],
      "text/plain": [
       "<IPython.core.display.HTML object>"
      ]
     },
     "metadata": {},
     "output_type": "display_data"
    },
    {
     "data": {
      "text/html": [
       "<strong>[Role of an exoprotease biosynthesis-stimulating microbial factor in Aspergillus kanagawaensis in the process of its growth and development].</strong><br>1980. Landau NS, Egorov NS, Buiak LI<br>[ID: 7010090]<br>Matching score: 2.6813947179441993"
      ],
      "text/plain": [
       "<IPython.core.display.HTML object>"
      ]
     },
     "metadata": {},
     "output_type": "display_data"
    },
    {
     "data": {
      "text/html": [
       "<strong>[Tools, progress and questions in the molecular study of Aspergillus fumigatus and invasive aspergillosis].</strong><br>1994. Latgé JP, Paris S, Sarfati J, Debeaupuis JP, Diaquin M, Girardin H<br>[ID: 7877854]<br>Matching score: 2.6411568760559123"
      ],
      "text/plain": [
       "<IPython.core.display.HTML object>"
      ]
     },
     "metadata": {},
     "output_type": "display_data"
    },
    {
     "data": {
      "text/html": [
       "<strong>Adaptation of Microsporum gypseum to ketoconazole.</strong><br>1989. Lenhart K, Merkunová A<br>[ID: 2533842]<br>Matching score: 2.628738484941694"
      ],
      "text/plain": [
       "<IPython.core.display.HTML object>"
      ]
     },
     "metadata": {},
     "output_type": "display_data"
    }
   ],
   "source": [
    "def score_ntc_ntc(query_words, doc_id):\n",
    "    score = 0\n",
    "    \n",
    "    for term in query_words:\n",
    "        score += (tf(term, doc_id) / tfidf_length(doc_id))\n",
    "    \n",
    "    return score\n",
    "\n",
    "def query_ntc_ntc(query_string):\n",
    "    doc_id_score_dict  = defaultdict(float)\n",
    "    postings_id, terms = query_to_postings_id_and_terms(query_string)\n",
    "    matching_docs_id = merge_posting_lists(postings_id, postings_id[0], merging_func=or_merge)\n",
    "    \n",
    "    for doc_id in matching_docs_id:\n",
    "        doc_id_score_dict[doc_id] = score_ntc_ntc(terms, doc_id)\n",
    "    \n",
    "    doc_id_score_list = sorted(doc_id_score_dict.items(), key=lambda item: item[1], reverse=True)\n",
    "    return doc_id_score_list[:10]\n",
    "\n",
    "# Example query:\n",
    "for doc_id, doc_score in query_ntc_ntc(\"evolution of resistance in the context of rice\"):\n",
    "    score_text = 'Matching score: ' + str(doc_score)\n",
    "    display_summary(doc_id, extra_text=score_text)"
   ]
  },
  {
   "cell_type": "markdown",
   "metadata": {},
   "source": [
    "# Submission"
   ]
  },
  {
   "cell_type": "markdown",
   "metadata": {},
   "source": [
    "Submit the answers to the assignment via Canvas as a modified version of this Notebook file (file with `.ipynb` extension) that includes your code and your answers.\n",
    "\n",
    "Before submitting, restart the kernel and re-run the complete code (**Kernel > Restart & Run All**), and then check whether your assignment code still works as expected.\n",
    "\n",
    "Don't forget to add your name, and remember that the assignments have to be done **individually**, and that code sharing or copying are **strictly forbidden** and will be punished."
   ]
  }
 ],
 "metadata": {
  "kernelspec": {
   "display_name": "Python 3",
   "language": "python",
   "name": "python3"
  },
  "language_info": {
   "codemirror_mode": {
    "name": "ipython",
    "version": 3
   },
   "file_extension": ".py",
   "mimetype": "text/x-python",
   "name": "python",
   "nbconvert_exporter": "python",
   "pygments_lexer": "ipython3",
   "version": "3.8.6"
  }
 },
 "nbformat": 4,
 "nbformat_minor": 1
}
